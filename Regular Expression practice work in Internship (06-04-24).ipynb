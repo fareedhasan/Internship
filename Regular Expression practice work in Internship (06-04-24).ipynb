{
 "cells": [
  {
   "cell_type": "markdown",
   "id": "77f0207c",
   "metadata": {},
   "source": [
    "#                                Regular Expression Project "
   ]
  },
  {
   "cell_type": "code",
   "execution_count": 1,
   "id": "3af44255",
   "metadata": {},
   "outputs": [],
   "source": [
    "import pandas as pd\n",
    "import numpy as np\n",
    "import re\n",
    "import matplotlib as matlab"
   ]
  },
  {
   "cell_type": "markdown",
   "id": "2f783b60",
   "metadata": {},
   "source": [
    "Question 1- Write a Python program to replace all occurrences of a space, comma, or dot with a colon."
   ]
  },
  {
   "cell_type": "code",
   "execution_count": 2,
   "id": "8c94c477",
   "metadata": {},
   "outputs": [
    {
     "name": "stdout",
     "output_type": "stream",
     "text": [
      "Python:Exercises::PHP:exercises:\n"
     ]
    }
   ],
   "source": [
    "text=\"Python Exercises, PHP exercises.\"\n",
    "print(re.sub(r\"[ ,.]\",\":\",text))\n"
   ]
  },
  {
   "cell_type": "code",
   "execution_count": null,
   "id": "d36247f9",
   "metadata": {},
   "outputs": [],
   "source": [
    "Question 2- Create a data frame using the dictionary below and remove everything (commas (,), !, XXXX, ;, etc.) from the columns except words."
   ]
  },
  {
   "cell_type": "code",
   "execution_count": 7,
   "id": "5f185814",
   "metadata": {},
   "outputs": [
    {
     "ename": "AttributeError",
     "evalue": "module 'pandas' has no attribute 'dataframe'",
     "output_type": "error",
     "traceback": [
      "\u001b[1;31m---------------------------------------------------------------------------\u001b[0m",
      "\u001b[1;31mAttributeError\u001b[0m                            Traceback (most recent call last)",
      "Cell \u001b[1;32mIn[7], line 3\u001b[0m\n\u001b[0;32m      1\u001b[0m \u001b[38;5;28;01mimport\u001b[39;00m \u001b[38;5;21;01mpandas\u001b[39;00m \u001b[38;5;28;01mas\u001b[39;00m \u001b[38;5;21;01mpd\u001b[39;00m\n\u001b[0;32m      2\u001b[0m text\u001b[38;5;241m=\u001b[39m{\u001b[38;5;124m'\u001b[39m\u001b[38;5;124mSUMMARY\u001b[39m\u001b[38;5;124m'\u001b[39m : [\u001b[38;5;124m'\u001b[39m\u001b[38;5;124mhello, world!\u001b[39m\u001b[38;5;124m'\u001b[39m, \u001b[38;5;124m'\u001b[39m\u001b[38;5;124mXXXXX test\u001b[39m\u001b[38;5;124m'\u001b[39m, \u001b[38;5;124m'\u001b[39m\u001b[38;5;124m123four, five:; six...\u001b[39m\u001b[38;5;124m'\u001b[39m]}\n\u001b[1;32m----> 3\u001b[0m df\u001b[38;5;241m=\u001b[39mpd\u001b[38;5;241m.\u001b[39mdataframe(data)\n\u001b[0;32m      4\u001b[0m df[\u001b[38;5;124m'\u001b[39m\u001b[38;5;124mSUMMARY\u001b[39m\u001b[38;5;124m'\u001b[39m]\u001b[38;5;241m=\u001b[39mdf[\u001b[38;5;124m'\u001b[39m\u001b[38;5;124mSUMMARY\u001b[39m\u001b[38;5;124m'\u001b[39m]\u001b[38;5;241m.\u001b[39mstr\u001b[38;5;241m.\u001b[39mreplace(\u001b[38;5;124mr\u001b[39m\u001b[38;5;124m'\u001b[39m\u001b[38;5;124m[^a-zA-Z\u001b[39m\u001b[38;5;124m\\\u001b[39m\u001b[38;5;124ms]\u001b[39m\u001b[38;5;124m'\u001b[39m, \u001b[38;5;124m'\u001b[39m\u001b[38;5;124m'\u001b[39m,regex\u001b[38;5;241m=\u001b[39m\u001b[38;5;28;01mTrue\u001b[39;00m)\n\u001b[0;32m      5\u001b[0m \u001b[38;5;28mprint\u001b[39m(df)\n",
      "\u001b[1;31mAttributeError\u001b[0m: module 'pandas' has no attribute 'dataframe'"
     ]
    }
   ],
   "source": [
    "import pandas as pd\n",
    "text={'SUMMARY' : ['hello, world!', 'XXXXX test', '123four, five:; six...']}\n",
    "df=pd.dataframe(data)\n",
    "df['SUMMARY']=df['SUMMARY'].str.replace(r'[^a-zA-Z\\s]', '',regex=True)\n",
    "print(df)"
   ]
  },
  {
   "cell_type": "code",
   "execution_count": null,
   "id": "331477c0",
   "metadata": {},
   "outputs": [],
   "source": [
    "Question 3- Create a function in python to find all words that are at least 4 characters long in a string. The use of the re.compile() method is mandatory."
   ]
  },
  {
   "cell_type": "code",
   "execution_count": 11,
   "id": "956f900f",
   "metadata": {},
   "outputs": [
    {
     "name": "stdout",
     "output_type": "stream",
     "text": [
      "['Fareed', 'Ahmad', 'from', 'Saharanpur', 'City', 'located', 'Western', 'Uttar', 'Pradesh']\n"
     ]
    }
   ],
   "source": [
    "import re\n",
    "text=\"Im Fareed Ahmad im from Saharanpur City is located on Western Uttar Pradesh\"\n",
    "print (re.findall(r\"\\b\\w{4,}\\b\",text))"
   ]
  },
  {
   "cell_type": "code",
   "execution_count": null,
   "id": "a8a6bd35",
   "metadata": {},
   "outputs": [],
   "source": [
    "Question 4- Create a function in python to find all three, four, and five character words in a string. The use of the re.compile() method is mandatory."
   ]
  },
  {
   "cell_type": "code",
   "execution_count": 16,
   "id": "670a4136",
   "metadata": {},
   "outputs": [
    {
     "name": "stdout",
     "output_type": "stream",
     "text": [
      "['Ahmad', 'from', 'city', 'Uttar']\n"
     ]
    }
   ],
   "source": [
    "import re\n",
    "text=\"Im Fareed Ahmad Im from Saharanpur city is located on Western Uttar Pradesh\"\n",
    "print(re.findall(r\"\\b\\w{3,5}\\b\",text))"
   ]
  },
  {
   "cell_type": "code",
   "execution_count": null,
   "id": "2249488b",
   "metadata": {},
   "outputs": [],
   "source": [
    "Question 5- Create a function in Python to remove the parenthesis in a list of strings. The use of the re.compile() method is mandatory."
   ]
  },
  {
   "cell_type": "code",
   "execution_count": 32,
   "id": "2fffc014",
   "metadata": {},
   "outputs": [
    {
     "name": "stdout",
     "output_type": "stream",
     "text": [
      "chaudharyfareed\n",
      "info@angels\n",
      "github\n",
      "Hello\n"
     ]
    }
   ],
   "source": [
    "import re\n",
    "items=[\"chaudharyfareed(.com)\",\"info@angels(.com)\",\"github(.com)\",\"Hello(.Data Science)\"]\n",
    "for item in items :\n",
    "    print(re.sub(r\"\\([^)]+\\)\", \"\", item))"
   ]
  },
  {
   "cell_type": "code",
   "execution_count": null,
   "id": "07e8c4d3",
   "metadata": {},
   "outputs": [],
   "source": [
    "Question 6- Write a python program to remove the parenthesis area from the text stored in the text file using Regular Expression."
   ]
  },
  {
   "cell_type": "code",
   "execution_count": 33,
   "id": "8eec9799",
   "metadata": {},
   "outputs": [
    {
     "name": "stdout",
     "output_type": "stream",
     "text": [
      "chaudharyfareed\n",
      "info@angels\n",
      "github\n",
      "Hello\n"
     ]
    }
   ],
   "source": [
    "import re\n",
    "items=[\"chaudharyfareed(.com)\",\"info@angels(.com)\",\"github(.com)\",\"Hello(.Data Science)\"]\n",
    "for item in items :\n",
    "    print(re.sub(r\"\\([^)]*\\)\", \"\", item))"
   ]
  },
  {
   "cell_type": "code",
   "execution_count": null,
   "id": "98616edf",
   "metadata": {},
   "outputs": [],
   "source": [
    "Question 7- Write a regular expression in Python to split a string into uppercase letters."
   ]
  },
  {
   "cell_type": "code",
   "execution_count": 34,
   "id": "ff1ea39d",
   "metadata": {},
   "outputs": [
    {
     "name": "stdout",
     "output_type": "stream",
     "text": [
      "['Importance', 'Of', 'Regular', 'Expression', 'In', 'Python']\n"
     ]
    }
   ],
   "source": [
    "import re\n",
    "text= \"ImportanceOfRegularExpressionInPython\"\n",
    "print(re.findall('[A-Z][^A-Z]*',text))"
   ]
  },
  {
   "cell_type": "code",
   "execution_count": null,
   "id": "44575383",
   "metadata": {},
   "outputs": [],
   "source": [
    "Question 8- Create a function in python to insert spaces between words starting with numbers."
   ]
  },
  {
   "cell_type": "code",
   "execution_count": 46,
   "id": "48f6a57a",
   "metadata": {},
   "outputs": [
    {
     "name": "stdout",
     "output_type": "stream",
     "text": [
      "   RegularExpression1IsAn2ImportantTopic3InPython \n",
      "   RegularExpression1IsAn2ImportantTopic3InPython \n"
     ]
    }
   ],
   "source": [
    "target_string=\"   RegularExpression1IsAn2ImportantTopic3InPython \"\n",
    "print(target_string)\n",
    "res_str=re.sub(\"r\\s+\",\"\",target_string)\n",
    "print(res_str)"
   ]
  },
  {
   "cell_type": "code",
   "execution_count": null,
   "id": "d44d02ff",
   "metadata": {},
   "outputs": [],
   "source": [
    "Question 9- Create a function in python to insert spaces between words starting with capital letters or with numbers."
   ]
  },
  {
   "cell_type": "code",
   "execution_count": 50,
   "id": "b4735f56",
   "metadata": {},
   "outputs": [
    {
     "name": "stdout",
     "output_type": "stream",
     "text": [
      "Regular Expression Is An Important Topic In Python\n"
     ]
    }
   ],
   "source": [
    "import re\n",
    "string=\" RegularExpression1IsAn2ImportantTopic3InPython \"\n",
    "words=re.findall('[A-Z][a-z]*',string)\n",
    "print(' '.join((words)))"
   ]
  },
  {
   "cell_type": "code",
   "execution_count": null,
   "id": "23a06a00",
   "metadata": {},
   "outputs": [],
   "source": [
    "Question 10- Use the github link below to read the data and create a dataframe. After creating the dataframe extract the first 6 letters of each country and store in the dataframe under a new column called first_five_letters"
   ]
  },
  {
   "cell_type": "code",
   "execution_count": 13,
   "id": "645d69c6",
   "metadata": {},
   "outputs": [
    {
     "name": "stdout",
     "output_type": "stream",
     "text": [
      "                     Region  Happiness Rank  Happiness Score  Standard Error  \\\n",
      "Country                                                                        \n",
      "Switzerland  Western Europe               1            7.587         0.03411   \n",
      "Iceland      Western Europe               2            7.561         0.04884   \n",
      "Denmark      Western Europe               3            7.527         0.03328   \n",
      "Norway       Western Europe               4            7.522         0.03880   \n",
      "Canada        North America               5            7.427         0.03553   \n",
      "\n",
      "             Economy (GDP per Capita)   Family  Health (Life Expectancy)  \\\n",
      "Country                                                                    \n",
      "Switzerland                   1.39651  1.34951                   0.94143   \n",
      "Iceland                       1.30232  1.40223                   0.94784   \n",
      "Denmark                       1.32548  1.36058                   0.87464   \n",
      "Norway                        1.45900  1.33095                   0.88521   \n",
      "Canada                        1.32629  1.32261                   0.90563   \n",
      "\n",
      "             Freedom  Trust (Government Corruption)  Generosity  \\\n",
      "Country                                                           \n",
      "Switzerland  0.66557                        0.41978     0.29678   \n",
      "Iceland      0.62877                        0.14145     0.43630   \n",
      "Denmark      0.64938                        0.48357     0.34139   \n",
      "Norway       0.66973                        0.36503     0.34699   \n",
      "Canada       0.63297                        0.32957     0.45811   \n",
      "\n",
      "             Dystopia Residual  \n",
      "Country                         \n",
      "Switzerland            2.51738  \n",
      "Iceland                2.70201  \n",
      "Denmark                2.49204  \n",
      "Norway                 2.46531  \n",
      "Canada                 2.45176  \n"
     ]
    }
   ],
   "source": [
    "import pandas as pd\n",
    "url='https://raw.githubusercontent.com/dsrscientist/DSData/master/happiness_score_dataset.csv'\n",
    "df=pd.read_csv(url,index_col=0)\n",
    "#df=pd.read_csv(url)\n",
    "print(df.head(5))"
   ]
  },
  {
   "cell_type": "code",
   "execution_count": 14,
   "id": "42ec3120",
   "metadata": {},
   "outputs": [
    {
     "name": "stdout",
     "output_type": "stream",
     "text": [
      "                     Region  Happiness Rank  Happiness Score  Standard Error  \\\n",
      "Country                                                                        \n",
      "Switzerland  Western Europe               1            7.587         0.03411   \n",
      "Iceland      Western Europe               2            7.561         0.04884   \n",
      "Denmark      Western Europe               3            7.527         0.03328   \n",
      "Norway       Western Europe               4            7.522         0.03880   \n",
      "Canada        North America               5            7.427         0.03553   \n",
      "\n",
      "             Economy (GDP per Capita)   Family  Health (Life Expectancy)  \\\n",
      "Country                                                                    \n",
      "Switzerland                   1.39651  1.34951                   0.94143   \n",
      "Iceland                       1.30232  1.40223                   0.94784   \n",
      "Denmark                       1.32548  1.36058                   0.87464   \n",
      "Norway                        1.45900  1.33095                   0.88521   \n",
      "Canada                        1.32629  1.32261                   0.90563   \n",
      "\n",
      "             Freedom  Trust (Government Corruption)  Generosity  \\\n",
      "Country                                                           \n",
      "Switzerland  0.66557                        0.41978     0.29678   \n",
      "Iceland      0.62877                        0.14145     0.43630   \n",
      "Denmark      0.64938                        0.48357     0.34139   \n",
      "Norway       0.66973                        0.36503     0.34699   \n",
      "Canada       0.63297                        0.32957     0.45811   \n",
      "\n",
      "             Dystopia Residual  \n",
      "Country                         \n",
      "Switzerland            2.51738  \n",
      "Iceland                2.70201  \n",
      "Denmark                2.49204  \n",
      "Norway                 2.46531  \n",
      "Canada                 2.45176  \n"
     ]
    }
   ],
   "source": [
    "df\n",
    "print(df.head(5))"
   ]
  },
  {
   "cell_type": "code",
   "execution_count": null,
   "id": "89ce15bb",
   "metadata": {},
   "outputs": [],
   "source": [
    "Question 11- Write a Python program to match a string that contains only upper and lowercase letters, numbers, and underscores."
   ]
  },
  {
   "cell_type": "code",
   "execution_count": 26,
   "id": "75719275",
   "metadata": {},
   "outputs": [
    {
     "name": "stdout",
     "output_type": "stream",
     "text": [
      "None\n"
     ]
    }
   ],
   "source": [
    "def text_match(text):\n",
    "    patterns='^[a-zA-Z0-9_]*$'\n",
    "    re.match(patterns,text)is not None\n",
    "input_text=\"Im fareed ahmad from im from saharanpur\"\n",
    "print(text_match(input_text))\n",
    "        "
   ]
  },
  {
   "cell_type": "code",
   "execution_count": null,
   "id": "c1bd30f5",
   "metadata": {},
   "outputs": [],
   "source": [
    "Question 12- Write a Python program where a string will start with a specific number. "
   ]
  },
  {
   "cell_type": "code",
   "execution_count": 46,
   "id": "572eed2a",
   "metadata": {},
   "outputs": [
    {
     "name": "stdout",
     "output_type": "stream",
     "text": [
      "True\n",
      "False\n"
     ]
    }
   ],
   "source": [
    "import re\n",
    "def match_num(string):\n",
    "    pattern=re.compile(r\"^5\")\n",
    "    if pattern.match(string):\n",
    "        return True\n",
    "    else:\n",
    "        return False\n",
    "\n",
    "print(match_num(\"5-5465465\"))\n",
    "print(match_num(\"6-5646585\"))\n"
   ]
  },
  {
   "cell_type": "code",
   "execution_count": null,
   "id": "ac1b349f",
   "metadata": {},
   "outputs": [],
   "source": [
    "Question 13- Write a Python program to remove leading zeros from an IP address"
   ]
  },
  {
   "cell_type": "code",
   "execution_count": 49,
   "id": "bc40f00c",
   "metadata": {},
   "outputs": [
    {
     "name": "stdout",
     "output_type": "stream",
     "text": [
      "10.0.2.30\n"
     ]
    }
   ],
   "source": [
    "def remove_zeros_from_ip(ip_adr):\n",
    "    return '.'.join(p.lstrip('0') or '0' for p in ip_adr.split('.'))\n",
    "ip = '10.000.002.30'\n",
    "print(remove_zeros_from_ip(ip))\n"
   ]
  },
  {
   "cell_type": "code",
   "execution_count": null,
   "id": "2b30ed0a",
   "metadata": {},
   "outputs": [],
   "source": [
    "Question 14- Write a regular expression in python to match a date string in the form of Month name followed by day number and year stored in a text file."
   ]
  },
  {
   "cell_type": "code",
   "execution_count": 63,
   "id": "f4ec9d19",
   "metadata": {},
   "outputs": [
    {
     "name": "stdout",
     "output_type": "stream",
     "text": [
      "[]\n"
     ]
    }
   ],
   "source": [
    "import re\n",
    "target_string = \"On August 15th 1947 that India was declared independent from British colonialism, and the reins of control were handed over to the leaders of the Country\"\n",
    "pattern = r\"([A-Z][a-z]+) \\d{1,2}\\d{4}\\b\"\n",
    "matches = re.findall(pattern, target_string)\n",
    "print(matches)\n"
   ]
  },
  {
   "cell_type": "code",
   "execution_count": null,
   "id": "cdd3cbe3",
   "metadata": {},
   "outputs": [],
   "source": [
    "Question 15- Write a Python program to search some literals strings in a string. "
   ]
  },
  {
   "cell_type": "code",
   "execution_count": 64,
   "id": "cfef7e87",
   "metadata": {},
   "outputs": [],
   "source": [
    "text='The quick brown fox jumps over the lazy dog.'"
   ]
  },
  {
   "cell_type": "code",
   "execution_count": 66,
   "id": "e0bc250b",
   "metadata": {},
   "outputs": [
    {
     "name": "stdout",
     "output_type": "stream",
     "text": [
      "['fox', 'dog']\n"
     ]
    }
   ],
   "source": [
    "import re\n",
    "match=re.findall(r\"fox|dog|horse\",text)\n",
    "print(match)"
   ]
  },
  {
   "cell_type": "code",
   "execution_count": null,
   "id": "6e1d8201",
   "metadata": {},
   "outputs": [],
   "source": [
    "Question 16- Write a Python program to search a literals string in a string and also find the location within the original string where the pattern occurs"
   ]
  },
  {
   "cell_type": "code",
   "execution_count": 67,
   "id": "5aa0a18b",
   "metadata": {},
   "outputs": [],
   "source": [
    "text1='The quick brown fox jumps over the lazy dog.'"
   ]
  },
  {
   "cell_type": "code",
   "execution_count": 71,
   "id": "8382c59a",
   "metadata": {},
   "outputs": [
    {
     "name": "stdout",
     "output_type": "stream",
     "text": [
      "<re.Match object; span=(16, 19), match='fox'>\n"
     ]
    }
   ],
   "source": [
    "import re\n",
    "match = re.search(r\"fox\",text1)\n",
    "print(match)"
   ]
  },
  {
   "cell_type": "code",
   "execution_count": null,
   "id": "a84fe33b",
   "metadata": {},
   "outputs": [],
   "source": [
    "Question 17- Write a Python program to find the substrings within a string."
   ]
  },
  {
   "cell_type": "code",
   "execution_count": 70,
   "id": "1a44383d",
   "metadata": {},
   "outputs": [],
   "source": [
    "text2='Python exercises, PHP exercises, C# exercises'"
   ]
  },
  {
   "cell_type": "code",
   "execution_count": 75,
   "id": "0e53f6c3",
   "metadata": {},
   "outputs": [
    {
     "name": "stdout",
     "output_type": "stream",
     "text": [
      "excercises\n"
     ]
    }
   ],
   "source": [
    "pattern='excercises'\n",
    "match = re.findall(pattern,text2)\n",
    "print(pattern)"
   ]
  },
  {
   "cell_type": "code",
   "execution_count": null,
   "id": "6de40eb6",
   "metadata": {},
   "outputs": [],
   "source": [
    "Question 18- Write a Python program to find the occurrence and position of the substrings within a string."
   ]
  },
  {
   "cell_type": "code",
   "execution_count": 78,
   "id": "1a314897",
   "metadata": {},
   "outputs": [],
   "source": [
    "text3=\"Im fareed ahmad Im from saharanpur city \""
   ]
  },
  {
   "cell_type": "code",
   "execution_count": 83,
   "id": "761d870e",
   "metadata": {},
   "outputs": [
    {
     "name": "stdout",
     "output_type": "stream",
     "text": [
      "ahmad\n"
     ]
    }
   ],
   "source": [
    "pattern = 'ahmad'\n",
    "for match in re.finditer(pattern,text3):\n",
    "    s=match.start()\n",
    "    e=match.end()\n",
    "print(pattern)"
   ]
  },
  {
   "cell_type": "code",
   "execution_count": null,
   "id": "5ca6da8a",
   "metadata": {},
   "outputs": [],
   "source": [
    "Question 19- Write a Python program to convert a date of yyyy-mm-dd format to dd-mm-yyyy format."
   ]
  },
  {
   "cell_type": "code",
   "execution_count": 89,
   "id": "d5290672",
   "metadata": {},
   "outputs": [],
   "source": [
    "date='2000-08-12'"
   ]
  },
  {
   "cell_type": "code",
   "execution_count": 94,
   "id": "d679f413",
   "metadata": {},
   "outputs": [
    {
     "name": "stdout",
     "output_type": "stream",
     "text": [
      "2000-08-12\n"
     ]
    }
   ],
   "source": [
    "import datetime\n",
    "input='2000/08/12'\n",
    "format='%Y/%m/%d'\n",
    "datetime=datetime.datetime.strptime(input,format)\n",
    "print(datetime.date())"
   ]
  },
  {
   "cell_type": "code",
   "execution_count": null,
   "id": "628931c9",
   "metadata": {},
   "outputs": [],
   "source": [
    "Question 20- Create a function in python to find all decimal numbers with a precision of 1 or 2 in a string. The use of the re.compile() method is mandatory."
   ]
  },
  {
   "cell_type": "code",
   "execution_count": 96,
   "id": "125dace2",
   "metadata": {},
   "outputs": [],
   "source": [
    "decimals='01.12 0132.123 2.31875 145.8 3.01 27.25 0.25'"
   ]
  },
  {
   "cell_type": "code",
   "execution_count": 103,
   "id": "5e7c1073",
   "metadata": {},
   "outputs": [
    {
     "name": "stdout",
     "output_type": "stream",
     "text": [
      "['01.12', '0132.12', '2.31', '145.8', '3.01', '27.25', '0.25']\n"
     ]
    }
   ],
   "source": [
    "import re \n",
    "def find_decimal_numbers(decimals):\n",
    "    pattern= re.compile(r'\\d+\\.\\d{1,2}')\n",
    "    decimal_numbers= re.findall(pattern,decimals)\n",
    "    return decimal_numbers\n",
    "decimals =\"01.12 0132.123 2.31875 145.8 3.01 27.25 0.25\"\n",
    "matching_numbers=find_decimal_numbers(decimals)\n",
    "print(matching_numbers)"
   ]
  },
  {
   "cell_type": "code",
   "execution_count": 106,
   "id": "8baa3670",
   "metadata": {},
   "outputs": [
    {
     "name": "stdout",
     "output_type": "stream",
     "text": [
      "01.12 0132.123 2.31875 145.8 3.01 27.25 0.25\n"
     ]
    }
   ],
   "source": [
    "def is_decimal(decimals):\n",
    "    import re\n",
    "    dnumre=re.compile(\"\"\"^[0-9]+(\\.[0-9]{1,2})?$\"\"\")\n",
    "    result=dnumre.search(decimals)\n",
    "    return bool(result)\n",
    "print(decimals)\n"
   ]
  },
  {
   "cell_type": "code",
   "execution_count": null,
   "id": "78e4e595",
   "metadata": {},
   "outputs": [],
   "source": [
    "Question 21- Write a Python program to separate and print the numbers and their position of a given string."
   ]
  },
  {
   "cell_type": "code",
   "execution_count": 3,
   "id": "25d216aa",
   "metadata": {},
   "outputs": [
    {
     "name": "stdout",
     "output_type": "stream",
     "text": [
      "Thirtyone 31, Fortytwo 42, Fiftyfive 55  <re.Match object; span=(0, 10), match='Thirtyone '>\n"
     ]
    }
   ],
   "source": [
    "import re \n",
    "text = \"Thirtyone 31, Fortytwo 42, Fiftyfive 55 \"\n",
    "result=re.search(\"\\D+\",text)\n",
    "print(text,result)"
   ]
  },
  {
   "cell_type": "code",
   "execution_count": null,
   "id": "fa5eb412",
   "metadata": {},
   "outputs": [],
   "source": [
    "Question 22- Write a regular expression in python program to extract maximum/largest numeric value from a string."
   ]
  },
  {
   "cell_type": "code",
   "execution_count": 7,
   "id": "f8771e8d",
   "metadata": {},
   "outputs": [
    {
     "name": "stdout",
     "output_type": "stream",
     "text": [
      "Max_number: 950\n"
     ]
    }
   ],
   "source": [
    "import re\n",
    "Sample_Text='My marks in each semester are: 947, 896, 926, 524, 734, 950, 642'\n",
    "number =re.findall('\\d+',Sample_Text)\n",
    "print(\"Max_number:\",max(number))"
   ]
  },
  {
   "cell_type": "code",
   "execution_count": null,
   "id": "caa7ac2e",
   "metadata": {},
   "outputs": [],
   "source": [
    "Question 23- Create a function in python to insert spaces between words starting with capital letters."
   ]
  },
  {
   "cell_type": "code",
   "execution_count": 8,
   "id": "5607f86a",
   "metadata": {},
   "outputs": [
    {
     "name": "stdout",
     "output_type": "stream",
     "text": [
      "Regular Expression Is An Important Topic In Python\n"
     ]
    }
   ],
   "source": [
    "import re\n",
    "string=\"RegularExpressionIsAnImportantTopicInPython\"\n",
    "words=re.findall('[A-Z][a-z]*',string)\n",
    "print(' '.join((words)))"
   ]
  },
  {
   "cell_type": "code",
   "execution_count": null,
   "id": "c4317d5e",
   "metadata": {},
   "outputs": [],
   "source": [
    "Question 24- Python regex to find sequences of one upper case letter followed by lower case letters."
   ]
  },
  {
   "cell_type": "code",
   "execution_count": 9,
   "id": "07eff797",
   "metadata": {},
   "outputs": [],
   "source": [
    "text=\"Im Fareed Ahmad im from Saharanpur City is Located in Western Uttarpradesh\""
   ]
  },
  {
   "cell_type": "code",
   "execution_count": 12,
   "id": "7f81a19f",
   "metadata": {},
   "outputs": [
    {
     "name": "stdout",
     "output_type": "stream",
     "text": [
      "['Im', 'Fareed', 'Ahmad', 'Saharanpur', 'City', 'Located', 'Western', 'Uttarpradesh']\n"
     ]
    }
   ],
   "source": [
    "import re\n",
    "pattern = r'[A-Z][a-z]+'\n",
    "matches= re.findall(pattern,text)\n",
    "print(matches)"
   ]
  },
  {
   "cell_type": "code",
   "execution_count": null,
   "id": "7afb2085",
   "metadata": {},
   "outputs": [],
   "source": [
    "Question 25- Write a Python program to remove continuous duplicate words from Sentence using Regular Expression."
   ]
  },
  {
   "cell_type": "code",
   "execution_count": 13,
   "id": "d406d9ff",
   "metadata": {},
   "outputs": [],
   "source": [
    "text1=\"Hello hello world world\""
   ]
  },
  {
   "cell_type": "code",
   "execution_count": 27,
   "id": "09038408",
   "metadata": {},
   "outputs": [
    {
     "name": "stdout",
     "output_type": "stream",
     "text": [
      "Hello world\n"
     ]
    }
   ],
   "source": [
    "import re\n",
    "def Remove_Duplicates(text):\n",
    "    Pattern = r\"\\b(\\w+)(?:\\W\\1\\b)+\"\n",
    "    return re.sub(Pattern, r\"\\1\",text,flags=re.IGNORECASE)\n",
    "print(Remove_Duplicates(text1))"
   ]
  },
  {
   "cell_type": "code",
   "execution_count": null,
   "id": "89c01fe9",
   "metadata": {},
   "outputs": [],
   "source": []
  },
  {
   "cell_type": "code",
   "execution_count": null,
   "id": "b826036c",
   "metadata": {},
   "outputs": [],
   "source": []
  },
  {
   "cell_type": "code",
   "execution_count": null,
   "id": "ce816760",
   "metadata": {},
   "outputs": [],
   "source": []
  }
 ],
 "metadata": {
  "kernelspec": {
   "display_name": "Python 3 (ipykernel)",
   "language": "python",
   "name": "python3"
  },
  "language_info": {
   "codemirror_mode": {
    "name": "ipython",
    "version": 3
   },
   "file_extension": ".py",
   "mimetype": "text/x-python",
   "name": "python",
   "nbconvert_exporter": "python",
   "pygments_lexer": "ipython3",
   "version": "3.11.5"
  }
 },
 "nbformat": 4,
 "nbformat_minor": 5
}
