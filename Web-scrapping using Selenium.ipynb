{
 "cells": [
  {
   "cell_type": "markdown",
   "id": "7a428922",
   "metadata": {},
   "source": [
    "So in this notebook we will scrape the data from https://www.naukri.com/ website for Data Analytics job role for Banglore location.We will scrape 4 fields for each job as mentioned below:\n",
    "\n",
    "1)Job title 2)Company Name 3)Location of job 4)Experince requiered."
   ]
  },
  {
   "cell_type": "code",
   "execution_count": 1,
   "id": "1078498a",
   "metadata": {},
   "outputs": [
    {
     "name": "stdout",
     "output_type": "stream",
     "text": [
      "Requirement already satisfied: notebook in c:\\users\\hp\\anaconda3\\lib\\site-packages (6.5.4)\n",
      "Requirement already satisfied: jinja2 in c:\\users\\hp\\anaconda3\\lib\\site-packages (from notebook) (3.1.2)\n",
      "Requirement already satisfied: tornado>=6.1 in c:\\users\\hp\\anaconda3\\lib\\site-packages (from notebook) (6.3.2)\n",
      "Requirement already satisfied: pyzmq>=17 in c:\\users\\hp\\anaconda3\\lib\\site-packages (from notebook) (23.2.0)\n",
      "Requirement already satisfied: argon2-cffi in c:\\users\\hp\\anaconda3\\lib\\site-packages (from notebook) (21.3.0)\n",
      "Requirement already satisfied: traitlets>=4.2.1 in c:\\users\\hp\\anaconda3\\lib\\site-packages (from notebook) (5.7.1)\n",
      "Requirement already satisfied: jupyter-core>=4.6.1 in c:\\users\\hp\\anaconda3\\lib\\site-packages (from notebook) (5.3.0)\n",
      "Requirement already satisfied: jupyter-client>=5.3.4 in c:\\users\\hp\\anaconda3\\lib\\site-packages (from notebook) (7.4.9)\n",
      "Requirement already satisfied: ipython-genutils in c:\\users\\hp\\anaconda3\\lib\\site-packages (from notebook) (0.2.0)\n",
      "Requirement already satisfied: nbformat in c:\\users\\hp\\anaconda3\\lib\\site-packages (from notebook) (5.9.2)\n",
      "Requirement already satisfied: nbconvert>=5 in c:\\users\\hp\\anaconda3\\lib\\site-packages (from notebook) (6.5.4)\n",
      "Requirement already satisfied: nest-asyncio>=1.5 in c:\\users\\hp\\anaconda3\\lib\\site-packages (from notebook) (1.5.6)\n",
      "Requirement already satisfied: ipykernel in c:\\users\\hp\\anaconda3\\lib\\site-packages (from notebook) (6.25.0)\n",
      "Requirement already satisfied: Send2Trash>=1.8.0 in c:\\users\\hp\\anaconda3\\lib\\site-packages (from notebook) (1.8.0)\n",
      "Requirement already satisfied: terminado>=0.8.3 in c:\\users\\hp\\anaconda3\\lib\\site-packages (from notebook) (0.17.1)\n",
      "Requirement already satisfied: prometheus-client in c:\\users\\hp\\anaconda3\\lib\\site-packages (from notebook) (0.14.1)\n",
      "Requirement already satisfied: nbclassic>=0.4.7 in c:\\users\\hp\\anaconda3\\lib\\site-packages (from notebook) (0.5.5)\n",
      "Requirement already satisfied: entrypoints in c:\\users\\hp\\anaconda3\\lib\\site-packages (from jupyter-client>=5.3.4->notebook) (0.4)\n",
      "Requirement already satisfied: python-dateutil>=2.8.2 in c:\\users\\hp\\anaconda3\\lib\\site-packages (from jupyter-client>=5.3.4->notebook) (2.8.2)\n",
      "Requirement already satisfied: platformdirs>=2.5 in c:\\users\\hp\\anaconda3\\lib\\site-packages (from jupyter-core>=4.6.1->notebook) (3.10.0)\n",
      "Requirement already satisfied: pywin32>=300 in c:\\users\\hp\\anaconda3\\lib\\site-packages (from jupyter-core>=4.6.1->notebook) (305.1)\n",
      "Requirement already satisfied: jupyter-server>=1.8 in c:\\users\\hp\\anaconda3\\lib\\site-packages (from nbclassic>=0.4.7->notebook) (1.23.4)\n",
      "Requirement already satisfied: notebook-shim>=0.1.0 in c:\\users\\hp\\anaconda3\\lib\\site-packages (from nbclassic>=0.4.7->notebook) (0.2.2)\n",
      "Requirement already satisfied: lxml in c:\\users\\hp\\anaconda3\\lib\\site-packages (from nbconvert>=5->notebook) (4.9.3)\n",
      "Requirement already satisfied: beautifulsoup4 in c:\\users\\hp\\anaconda3\\lib\\site-packages (from nbconvert>=5->notebook) (4.12.2)\n",
      "Requirement already satisfied: bleach in c:\\users\\hp\\anaconda3\\lib\\site-packages (from nbconvert>=5->notebook) (4.1.0)\n",
      "Requirement already satisfied: defusedxml in c:\\users\\hp\\anaconda3\\lib\\site-packages (from nbconvert>=5->notebook) (0.7.1)\n",
      "Requirement already satisfied: jupyterlab-pygments in c:\\users\\hp\\anaconda3\\lib\\site-packages (from nbconvert>=5->notebook) (0.1.2)\n",
      "Requirement already satisfied: MarkupSafe>=2.0 in c:\\users\\hp\\anaconda3\\lib\\site-packages (from nbconvert>=5->notebook) (2.1.1)\n",
      "Requirement already satisfied: mistune<2,>=0.8.1 in c:\\users\\hp\\anaconda3\\lib\\site-packages (from nbconvert>=5->notebook) (0.8.4)\n",
      "Requirement already satisfied: nbclient>=0.5.0 in c:\\users\\hp\\anaconda3\\lib\\site-packages (from nbconvert>=5->notebook) (0.5.13)\n",
      "Requirement already satisfied: packaging in c:\\users\\hp\\anaconda3\\lib\\site-packages (from nbconvert>=5->notebook) (23.1)\n",
      "Requirement already satisfied: pandocfilters>=1.4.1 in c:\\users\\hp\\anaconda3\\lib\\site-packages (from nbconvert>=5->notebook) (1.5.0)\n",
      "Requirement already satisfied: pygments>=2.4.1 in c:\\users\\hp\\anaconda3\\lib\\site-packages (from nbconvert>=5->notebook) (2.15.1)\n",
      "Requirement already satisfied: tinycss2 in c:\\users\\hp\\anaconda3\\lib\\site-packages (from nbconvert>=5->notebook) (1.2.1)\n",
      "Requirement already satisfied: fastjsonschema in c:\\users\\hp\\anaconda3\\lib\\site-packages (from nbformat->notebook) (2.16.2)\n",
      "Requirement already satisfied: jsonschema>=2.6 in c:\\users\\hp\\anaconda3\\lib\\site-packages (from nbformat->notebook) (4.17.3)\n",
      "Requirement already satisfied: pywinpty>=1.1.0 in c:\\users\\hp\\anaconda3\\lib\\site-packages (from terminado>=0.8.3->notebook) (2.0.10)\n",
      "Requirement already satisfied: argon2-cffi-bindings in c:\\users\\hp\\anaconda3\\lib\\site-packages (from argon2-cffi->notebook) (21.2.0)\n",
      "Requirement already satisfied: comm>=0.1.1 in c:\\users\\hp\\anaconda3\\lib\\site-packages (from ipykernel->notebook) (0.1.2)\n",
      "Requirement already satisfied: debugpy>=1.6.5 in c:\\users\\hp\\anaconda3\\lib\\site-packages (from ipykernel->notebook) (1.6.7)\n",
      "Requirement already satisfied: ipython>=7.23.1 in c:\\users\\hp\\anaconda3\\lib\\site-packages (from ipykernel->notebook) (8.15.0)\n",
      "Requirement already satisfied: matplotlib-inline>=0.1 in c:\\users\\hp\\anaconda3\\lib\\site-packages (from ipykernel->notebook) (0.1.6)\n",
      "Requirement already satisfied: psutil in c:\\users\\hp\\anaconda3\\lib\\site-packages (from ipykernel->notebook) (5.9.0)\n",
      "Requirement already satisfied: backcall in c:\\users\\hp\\anaconda3\\lib\\site-packages (from ipython>=7.23.1->ipykernel->notebook) (0.2.0)\n",
      "Requirement already satisfied: decorator in c:\\users\\hp\\anaconda3\\lib\\site-packages (from ipython>=7.23.1->ipykernel->notebook) (5.1.1)\n",
      "Requirement already satisfied: jedi>=0.16 in c:\\users\\hp\\anaconda3\\lib\\site-packages (from ipython>=7.23.1->ipykernel->notebook) (0.18.1)\n",
      "Requirement already satisfied: pickleshare in c:\\users\\hp\\anaconda3\\lib\\site-packages (from ipython>=7.23.1->ipykernel->notebook) (0.7.5)\n",
      "Requirement already satisfied: prompt-toolkit!=3.0.37,<3.1.0,>=3.0.30 in c:\\users\\hp\\anaconda3\\lib\\site-packages (from ipython>=7.23.1->ipykernel->notebook) (3.0.36)\n",
      "Requirement already satisfied: stack-data in c:\\users\\hp\\anaconda3\\lib\\site-packages (from ipython>=7.23.1->ipykernel->notebook) (0.2.0)\n",
      "Requirement already satisfied: colorama in c:\\users\\hp\\anaconda3\\lib\\site-packages (from ipython>=7.23.1->ipykernel->notebook) (0.4.6)\n",
      "Requirement already satisfied: attrs>=17.4.0 in c:\\users\\hp\\anaconda3\\lib\\site-packages (from jsonschema>=2.6->nbformat->notebook) (23.2.0)\n",
      "Requirement already satisfied: pyrsistent!=0.17.0,!=0.17.1,!=0.17.2,>=0.14.0 in c:\\users\\hp\\anaconda3\\lib\\site-packages (from jsonschema>=2.6->nbformat->notebook) (0.18.0)\n",
      "Requirement already satisfied: anyio<4,>=3.1.0 in c:\\users\\hp\\anaconda3\\lib\\site-packages (from jupyter-server>=1.8->nbclassic>=0.4.7->notebook) (3.5.0)\n",
      "Requirement already satisfied: websocket-client in c:\\users\\hp\\anaconda3\\lib\\site-packages (from jupyter-server>=1.8->nbclassic>=0.4.7->notebook) (0.58.0)\n",
      "Requirement already satisfied: six>=1.5 in c:\\users\\hp\\anaconda3\\lib\\site-packages (from python-dateutil>=2.8.2->jupyter-client>=5.3.4->notebook) (1.16.0)\n",
      "Requirement already satisfied: cffi>=1.0.1 in c:\\users\\hp\\anaconda3\\lib\\site-packages (from argon2-cffi-bindings->argon2-cffi->notebook) (1.15.1)\n",
      "Requirement already satisfied: soupsieve>1.2 in c:\\users\\hp\\anaconda3\\lib\\site-packages (from beautifulsoup4->nbconvert>=5->notebook) (2.4)\n",
      "Requirement already satisfied: webencodings in c:\\users\\hp\\anaconda3\\lib\\site-packages (from bleach->nbconvert>=5->notebook) (0.5.1)\n",
      "Requirement already satisfied: idna>=2.8 in c:\\users\\hp\\anaconda3\\lib\\site-packages (from anyio<4,>=3.1.0->jupyter-server>=1.8->nbclassic>=0.4.7->notebook) (3.4)\n",
      "Requirement already satisfied: sniffio>=1.1 in c:\\users\\hp\\anaconda3\\lib\\site-packages (from anyio<4,>=3.1.0->jupyter-server>=1.8->nbclassic>=0.4.7->notebook) (1.3.1)\n",
      "Requirement already satisfied: pycparser in c:\\users\\hp\\anaconda3\\lib\\site-packages (from cffi>=1.0.1->argon2-cffi-bindings->argon2-cffi->notebook) (2.21)\n",
      "Requirement already satisfied: parso<0.9.0,>=0.8.0 in c:\\users\\hp\\anaconda3\\lib\\site-packages (from jedi>=0.16->ipython>=7.23.1->ipykernel->notebook) (0.8.3)\n",
      "Requirement already satisfied: wcwidth in c:\\users\\hp\\anaconda3\\lib\\site-packages (from prompt-toolkit!=3.0.37,<3.1.0,>=3.0.30->ipython>=7.23.1->ipykernel->notebook) (0.2.5)\n",
      "Requirement already satisfied: executing in c:\\users\\hp\\anaconda3\\lib\\site-packages (from stack-data->ipython>=7.23.1->ipykernel->notebook) (0.8.3)\n",
      "Requirement already satisfied: asttokens in c:\\users\\hp\\anaconda3\\lib\\site-packages (from stack-data->ipython>=7.23.1->ipykernel->notebook) (2.0.5)\n",
      "Requirement already satisfied: pure-eval in c:\\users\\hp\\anaconda3\\lib\\site-packages (from stack-data->ipython>=7.23.1->ipykernel->notebook) (0.2.2)\n"
     ]
    }
   ],
   "source": [
    "!pip install notebook"
   ]
  },
  {
   "cell_type": "code",
   "execution_count": 2,
   "id": "dbe6b6b6",
   "metadata": {},
   "outputs": [
    {
     "name": "stdout",
     "output_type": "stream",
     "text": [
      "Requirement already satisfied: selenium in c:\\users\\hp\\anaconda3\\lib\\site-packages (4.20.0)\n",
      "Requirement already satisfied: urllib3[socks]<3,>=1.26 in c:\\users\\hp\\anaconda3\\lib\\site-packages (from selenium) (1.26.16)\n",
      "Requirement already satisfied: trio~=0.17 in c:\\users\\hp\\anaconda3\\lib\\site-packages (from selenium) (0.25.0)\n",
      "Requirement already satisfied: trio-websocket~=0.9 in c:\\users\\hp\\anaconda3\\lib\\site-packages (from selenium) (0.11.1)\n",
      "Requirement already satisfied: certifi>=2021.10.8 in c:\\users\\hp\\anaconda3\\lib\\site-packages (from selenium) (2024.2.2)\n",
      "Requirement already satisfied: typing_extensions>=4.9.0 in c:\\users\\hp\\anaconda3\\lib\\site-packages (from selenium) (4.11.0)\n",
      "Requirement already satisfied: attrs>=23.2.0 in c:\\users\\hp\\anaconda3\\lib\\site-packages (from trio~=0.17->selenium) (23.2.0)\n",
      "Requirement already satisfied: sortedcontainers in c:\\users\\hp\\anaconda3\\lib\\site-packages (from trio~=0.17->selenium) (2.4.0)\n",
      "Requirement already satisfied: idna in c:\\users\\hp\\anaconda3\\lib\\site-packages (from trio~=0.17->selenium) (3.4)\n",
      "Requirement already satisfied: outcome in c:\\users\\hp\\anaconda3\\lib\\site-packages (from trio~=0.17->selenium) (1.3.0.post0)\n",
      "Requirement already satisfied: sniffio>=1.3.0 in c:\\users\\hp\\anaconda3\\lib\\site-packages (from trio~=0.17->selenium) (1.3.1)\n",
      "Requirement already satisfied: cffi>=1.14 in c:\\users\\hp\\anaconda3\\lib\\site-packages (from trio~=0.17->selenium) (1.15.1)\n",
      "Requirement already satisfied: wsproto>=0.14 in c:\\users\\hp\\anaconda3\\lib\\site-packages (from trio-websocket~=0.9->selenium) (1.2.0)\n",
      "Requirement already satisfied: PySocks!=1.5.7,<2.0,>=1.5.6 in c:\\users\\hp\\anaconda3\\lib\\site-packages (from urllib3[socks]<3,>=1.26->selenium) (1.7.1)\n",
      "Requirement already satisfied: pycparser in c:\\users\\hp\\anaconda3\\lib\\site-packages (from cffi>=1.14->trio~=0.17->selenium) (2.21)\n",
      "Requirement already satisfied: h11<1,>=0.9.0 in c:\\users\\hp\\anaconda3\\lib\\site-packages (from wsproto>=0.14->trio-websocket~=0.9->selenium) (0.14.0)\n"
     ]
    }
   ],
   "source": [
    "!pip install selenium"
   ]
  },
  {
   "cell_type": "code",
   "execution_count": 3,
   "id": "d5ff305c",
   "metadata": {},
   "outputs": [],
   "source": [
    "import selenium \n",
    "import pandas as pd\n",
    "import numpy as np\n",
    "from selenium import webdriver \n",
    "import warnings \n",
    "warnings.filterwarnings('ignore')\n",
    "from selenium.webdriver.common.by import By\n",
    "import time"
   ]
  },
  {
   "cell_type": "markdown",
   "id": "4936f9d3",
   "metadata": {},
   "source": [
    "Q1: In this question you have to scrape data using the filters available on the webpage You have to use the location and\n",
    "salary filter.\n",
    "You have to scrape data for “Data Scientist” designation for first 10 job results.\n",
    "You have to scrape the job-title, job-location, company name, experience required.\n",
    "The location filter to be used is “Delhi/NCR”. The salary filter to be used is “3-6” lakhs\n",
    "The task will be done as shown in the below steps:\n",
    "1. first get the web page https://www.naukri.com/\n",
    "2. Enter “Data Scientist” in “Skill, Designations, and Companies” field.\n",
    "3. Then click the search button.\n",
    "4. Then apply the location filter and salary filter by checking the respective boxes\n",
    "5. Then scrape the data for the first 10 jobs results you get.\n",
    "6. Finally create a dataframe of the scraped data. "
   ]
  },
  {
   "cell_type": "code",
   "execution_count": 5,
   "id": "ad5f9b16",
   "metadata": {},
   "outputs": [],
   "source": [
    "driver=webdriver.Chrome()"
   ]
  },
  {
   "cell_type": "code",
   "execution_count": 6,
   "id": "b70ccac2",
   "metadata": {},
   "outputs": [],
   "source": [
    "driver.get(\"https://www.naukri.com/ \")"
   ]
  },
  {
   "cell_type": "code",
   "execution_count": 7,
   "id": "62173839",
   "metadata": {},
   "outputs": [],
   "source": [
    "designation=driver.find_element(By.CLASS_NAME,\"suggestor-input  \")\n",
    "designation.send_keys('Data Scientist')"
   ]
  },
  {
   "cell_type": "code",
   "execution_count": 8,
   "id": "bbde6f18",
   "metadata": {},
   "outputs": [],
   "source": [
    "location=driver.find_element(By.XPATH,\"/html/body/div[1]/div[7]/div/div/div[5]/div/div/div/div[1]/div/input\")\n",
    "location.send_keys('Delhi/NCR')"
   ]
  },
  {
   "cell_type": "code",
   "execution_count": 9,
   "id": "84981215",
   "metadata": {},
   "outputs": [],
   "source": [
    "search=driver.find_element(By.CLASS_NAME,\"qsbSubmit\")\n",
    "search.click()"
   ]
  },
  {
   "cell_type": "code",
   "execution_count": 10,
   "id": "4af3211b",
   "metadata": {},
   "outputs": [
    {
     "name": "stdout",
     "output_type": "stream",
     "text": [
      "<selenium.webdriver.remote.webelement.WebElement (session=\"10235b5e7c9ad817f4d3a301fefa0c88\", element=\"f.99320C74839DA3CBBAF8A027E0503542.d.163583EA6213B94BC2BD19F773EF499A.e.1\")>\n"
     ]
    }
   ],
   "source": [
    "print(designation)"
   ]
  },
  {
   "cell_type": "code",
   "execution_count": 11,
   "id": "42b3e7dc",
   "metadata": {},
   "outputs": [],
   "source": [
    "job_title=[]\n",
    "job_location=[]\n",
    "company_name=[]\n",
    "experience_required=[]"
   ]
  },
  {
   "cell_type": "code",
   "execution_count": 12,
   "id": "b90a6bcd",
   "metadata": {},
   "outputs": [],
   "source": [
    "# Scranping Job title from the given page\n",
    "title_tags=driver.find_elements(By.XPATH,'//div[@class=\"cust-job-tuple layout-wrapper lay-2 sjw__tuple \"]/div/a')\n",
    "for i in title_tags:\n",
    "    title=i.text\n",
    "    job_title.append(title)\n",
    "# Scraping Job location from the given page\n",
    "location_tags=driver.find_elements(By.XPATH,'//span[@class=\"locWdth\"]')\n",
    "for i in location_tags:\n",
    "    location=i.text\n",
    "    job_location.append(location)\n",
    "# Scraping Company Name from the given page\n",
    "company_tags=driver.find_elements(By.XPATH,'//div[@class=\" row2\"]/span /a[1]')\n",
    "for i in company_tags:\n",
    "    company=i.text\n",
    "    company_name.append(company)\n",
    "# Scraping Job Experience from the given page\n",
    "experience_tags=driver.find_elements(By.XPATH,'//span[@class=\"exp-wrap\"]')\n",
    "for i in experience_tags:\n",
    "    exp=i.text\n",
    "    experience_required.append(exp)\n"
   ]
  },
  {
   "cell_type": "code",
   "execution_count": 13,
   "id": "ec07aa7c",
   "metadata": {},
   "outputs": [
    {
     "name": "stdout",
     "output_type": "stream",
     "text": [
      "20 20 20 25\n"
     ]
    }
   ],
   "source": [
    "print(len(job_title),len(job_location),len(company_name),len(experience_required))"
   ]
  },
  {
   "cell_type": "code",
   "execution_count": null,
   "id": "7156f426",
   "metadata": {},
   "outputs": [],
   "source": [
    "import pandas as pd\n",
    "df=pd.DataFrame({ \"Job_Title\": job_title,\"Job_Location\": job_location,\"Company_Name\": company_name,\"Experience_Required\": experience_required})\n",
    "df"
   ]
  },
  {
   "cell_type": "code",
   "execution_count": null,
   "id": "bcdb6359",
   "metadata": {},
   "outputs": [],
   "source": []
  },
  {
   "cell_type": "markdown",
   "id": "c833db4c",
   "metadata": {},
   "source": [
    "Q2: Write a python program to scrape data for “Data Scientist” Job position in “Bangalore” location. You have to scrape the job-title, job-location, company_name, experience_required. You have to scrape first 10 jobs data.\n",
    "This task will be done in following steps:\n",
    "1. First get the webpage https://www.shine.com/\n",
    "2. Enter “Data Analyst” in “Job title, Skills” field and enter “Bangalore” in “enter the location” field.\n",
    "3. Then click the searchbutton.\n",
    "4. Then scrape the data for the first 10 jobs results you get.\n",
    "5. Finally create a dataframe of the scraped data."
   ]
  },
  {
   "cell_type": "code",
   "execution_count": 92,
   "id": "ddd68a41",
   "metadata": {},
   "outputs": [],
   "source": [
    "driver=webdriver.Chrome()"
   ]
  },
  {
   "cell_type": "code",
   "execution_count": 93,
   "id": "06f81b99",
   "metadata": {},
   "outputs": [],
   "source": [
    "driver.get(\"https://www.shine.com/\")"
   ]
  },
  {
   "cell_type": "code",
   "execution_count": 94,
   "id": "346e99a9",
   "metadata": {},
   "outputs": [],
   "source": [
    "designation=driver.find_element(By.CLASS_NAME,\"input\")\n",
    "designation.send_keys('Data Analyst  ')"
   ]
  },
  {
   "cell_type": "code",
   "execution_count": 95,
   "id": "5414276f",
   "metadata": {},
   "outputs": [],
   "source": [
    "location=driver.find_element(By.XPATH,\"/html/body/div/header/div[3]/div/div/div[1]/div/input\")\n",
    "location.send_keys('Banglore')"
   ]
  },
  {
   "cell_type": "code",
   "execution_count": 100,
   "id": "b18a4a39",
   "metadata": {},
   "outputs": [],
   "source": [
    "search=driver.find_element(By.CLASS_NAME,\"searchForm_btnWrap_advance__VYBHN\")\n",
    "search.click()"
   ]
  },
  {
   "cell_type": "code",
   "execution_count": 98,
   "id": "c5c73edc",
   "metadata": {},
   "outputs": [],
   "source": [
    "job_title=[]\n",
    "job_location=[]\n",
    "company_name=[]\n",
    "experience_required=[]"
   ]
  },
  {
   "cell_type": "code",
   "execution_count": 103,
   "id": "b7560413",
   "metadata": {},
   "outputs": [],
   "source": [
    "# Scranping Job title from the given page\n",
    "title_tags=driver.find_elements(By.XPATH,'//strong[@class=\"jobCard_pReplaceH2__xWmHg\"]')\n",
    "for i in title_tags:\n",
    "    title=i.text\n",
    "    job_title.append(title)\n"
   ]
  },
  {
   "cell_type": "code",
   "execution_count": 104,
   "id": "7b641832",
   "metadata": {},
   "outputs": [
    {
     "name": "stdout",
     "output_type": "stream",
     "text": [
      "108\n"
     ]
    }
   ],
   "source": [
    "print(len(job_title))"
   ]
  },
  {
   "cell_type": "code",
   "execution_count": 105,
   "id": "b99a0649",
   "metadata": {},
   "outputs": [],
   "source": [
    "# Scraping Job location from the given page\n",
    "location_tags=driver.find_elements(By.XPATH,'//div[@class=\" jobCard_jobCard_lists_item__YxRkV jobCard_locationIcon__zrWt2\"]')\n",
    "for i in location_tags:\n",
    "    location=i.text\n",
    "    job_location.append(location)"
   ]
  },
  {
   "cell_type": "code",
   "execution_count": 106,
   "id": "683c66a0",
   "metadata": {},
   "outputs": [
    {
     "name": "stdout",
     "output_type": "stream",
     "text": [
      "54\n"
     ]
    }
   ],
   "source": [
    "print(len(job_location))"
   ]
  },
  {
   "cell_type": "code",
   "execution_count": 107,
   "id": "880ecfda",
   "metadata": {},
   "outputs": [],
   "source": [
    "# Scraping Company Name from the given page\n",
    "company_tags=driver.find_elements(By.XPATH,'//div[@class=\"jobCard_jobCard_cName__mYnow\"]')\n",
    "for i in company_tags:\n",
    "    company=i.text\n",
    "    company_name.append(company)"
   ]
  },
  {
   "cell_type": "code",
   "execution_count": 108,
   "id": "57c2d44a",
   "metadata": {},
   "outputs": [
    {
     "name": "stdout",
     "output_type": "stream",
     "text": [
      "54\n"
     ]
    }
   ],
   "source": [
    "print(len(company_name))"
   ]
  },
  {
   "cell_type": "code",
   "execution_count": 109,
   "id": "98c8a73b",
   "metadata": {},
   "outputs": [],
   "source": [
    "# Scraping Job Experience from the given page\n",
    "experience_tags=driver.find_elements(By.XPATH,'//div[@class=\" jobCard_jobCard_lists_item__YxRkV jobCard_jobIcon__3FB1t\"]')\n",
    "for i in experience_tags:\n",
    "    exp=i.text\n",
    "    experience_required.append(exp)\n"
   ]
  },
  {
   "cell_type": "code",
   "execution_count": 110,
   "id": "ae1130cf",
   "metadata": {},
   "outputs": [
    {
     "name": "stdout",
     "output_type": "stream",
     "text": [
      "54\n"
     ]
    }
   ],
   "source": [
    "print(len(experience_required))"
   ]
  },
  {
   "cell_type": "code",
   "execution_count": 111,
   "id": "b7ef0bed",
   "metadata": {},
   "outputs": [],
   "source": [
    "# Scranping Job title from the given page\n",
    "title_tags=driver.find_elements(By.XPATH,'//strong[@class=\"jobCard_pReplaceH2__xWmHg\"]')\n",
    "for i in title_tags:\n",
    "    title=i.text\n",
    "    job_title.append(title)\n",
    "# Scraping Job location from the given page\n",
    "location_tags=driver.find_elements(By.XPATH,'//div[@class=\" jobCard_jobCard_lists_item__YxRkV jobCard_locationIcon__zrWt2\"]')\n",
    "for i in location_tags:\n",
    "    location=i.text\n",
    "    job_location.append(location)\n",
    "# Scraping Company Name from the given page\n",
    "company_tags=driver.find_elements(By.XPATH,'//div[@class=\"jobCard_jobCard_cName__mYnow\"]')\n",
    "for i in company_tags:\n",
    "    company=i.text\n",
    "    company_name.append(company)\n",
    "# Scraping Job Experience from the given page\n",
    "experience_tags=driver.find_elements(By.XPATH,'//div[@class=\" jobCard_jobCard_lists_item__YxRkV jobCard_jobIcon__3FB1t\"]')\n",
    "for i in experience_tags:\n",
    "    exp=i.text\n",
    "    experience_required.append(exp)\n"
   ]
  },
  {
   "cell_type": "code",
   "execution_count": 112,
   "id": "ea125c9d",
   "metadata": {},
   "outputs": [
    {
     "name": "stdout",
     "output_type": "stream",
     "text": [
      "162 108 108 108\n"
     ]
    }
   ],
   "source": [
    "print(len(job_title),len(job_location),len(company_name),len(experience_required))"
   ]
  },
  {
   "cell_type": "code",
   "execution_count": null,
   "id": "c4c187f2",
   "metadata": {},
   "outputs": [],
   "source": [
    "import pandas as pd\n",
    "df=pd.DataFrame({\"Job_Title\":job_title,\"Job_Location\":job_location,\"Company_Name\":company_name,\"Experience_Required\":experience_required})\n",
    "df"
   ]
  },
  {
   "cell_type": "code",
   "execution_count": null,
   "id": "a924d38c",
   "metadata": {},
   "outputs": [],
   "source": []
  },
  {
   "cell_type": "markdown",
   "id": "5152eba8",
   "metadata": {},
   "source": [
    "Q3: Scrape 100 reviews data from flipkart.com for iphone11 phone. You have to go the link: \n",
    "https://www.flipkart.com/apple-iphone-11-black-64-gb/product\u0002reviews/itm4e5041ba101fd?pid=MOBFWQ6BXGJCEYNY&lid=LSTMOBFWQ6BXGJCEYNYZXSHRJ&marketplace=F\n",
    "LIPKART\n",
    "As shown in the above page you have to scrape the tick marked attributes. These are:\n",
    "1. Rating\n",
    "2. Review summary\n",
    "3. Full review\n",
    "4. You have to scrape this data for first 100reviews."
   ]
  },
  {
   "cell_type": "code",
   "execution_count": 4,
   "id": "cc2c05b4",
   "metadata": {},
   "outputs": [],
   "source": [
    "driver=webdriver.Chrome()"
   ]
  },
  {
   "cell_type": "code",
   "execution_count": 5,
   "id": "c5777168",
   "metadata": {},
   "outputs": [],
   "source": [
    "driver.get(\"https://www.flipkart.com/apple-iphone-11-black-64-gb/product-reviews/itm4e5041ba101fd?pid=MOBFWQ6BXGJCEYNY&lid=LSTMOBFWQ6BXGJCEYNYZXSHRJ&marketplace=FLIPKART\")"
   ]
  },
  {
   "cell_type": "code",
   "execution_count": 6,
   "id": "7fa53805",
   "metadata": {},
   "outputs": [],
   "source": [
    "phone_rating=[]\n",
    "review_summary=[]\n",
    "full_review=[]"
   ]
  },
  {
   "cell_type": "code",
   "execution_count": 7,
   "id": "5181add6",
   "metadata": {},
   "outputs": [],
   "source": [
    "rating_tags=driver.find_elements(By.XPATH,'//div[@class=\"XQDdHH Ga3i8K\"]')\n",
    "for i in rating_tags:\n",
    "    rating=i.text\n",
    "    phone_rating.append(rating)"
   ]
  },
  {
   "cell_type": "code",
   "execution_count": 8,
   "id": "c5a49a80",
   "metadata": {},
   "outputs": [
    {
     "name": "stdout",
     "output_type": "stream",
     "text": [
      "['5', '5', '5', '5', '5', '5', '5', '5', '5', '5']\n"
     ]
    }
   ],
   "source": [
    "print(phone_rating)"
   ]
  },
  {
   "cell_type": "code",
   "execution_count": 9,
   "id": "fcfb98a1",
   "metadata": {},
   "outputs": [],
   "source": [
    "review_tags=driver.find_elements(By.XPATH,'//p[@class=\"z9E0IG\"]')\n",
    "for i in review_tags:\n",
    "    review=i.text\n",
    "    review_summary.append(review)"
   ]
  },
  {
   "cell_type": "code",
   "execution_count": 10,
   "id": "6d8e131a",
   "metadata": {},
   "outputs": [
    {
     "name": "stdout",
     "output_type": "stream",
     "text": [
      "['Best in the market!', 'Classy product', 'Terrific', 'Worth every penny', 'Wonderful', 'Perfect product!', 'Awesome', 'Terrific purchase', 'Just wow!', 'Must buy!']\n"
     ]
    }
   ],
   "source": [
    "print(review_summary)"
   ]
  },
  {
   "cell_type": "code",
   "execution_count": 12,
   "id": "fe6d4cc6",
   "metadata": {},
   "outputs": [
    {
     "name": "stdout",
     "output_type": "stream",
     "text": [
      "['Good Camera', 'Camera is awesome\\nBest battery backup\\nA performer 👌🏻\\nIt will be a real value for money if they provide charger and earphone inbox!', 'Very very good', 'Feeling awesome after getting the delivery of my phone. Dual speakers makes the sound quality very loud. Amazing!!', 'This is amazing at all', 'Photos super', 'iPhone 11 is a good phone. Not a very big difference between 12 except for the OLED screen and a very minor camera improvement which is you cant make a difference. If you are planning for a iPhone and you have budget you definitely can go for this without second thoughts.\\nNow some people are complaining and giving review 0 or so because there is no charger and headphones, but thats been already mentioned so I assume they are illiterate. Its not that Flipkart is removing them duh. Anyways bee...\\nREAD MORE', 'Value for money 😍', 'Perfect Product!!', 'It’s really awesome']\n"
     ]
    }
   ],
   "source": [
    "print(full_review)"
   ]
  },
  {
   "cell_type": "code",
   "execution_count": 13,
   "id": "68dbd090",
   "metadata": {},
   "outputs": [],
   "source": [
    "import pandas as pd "
   ]
  },
  {
   "cell_type": "code",
   "execution_count": 14,
   "id": "9e35a273",
   "metadata": {},
   "outputs": [],
   "source": [
    "rating_tags=driver.find_elements(By.XPATH,'//div[@class=\"XQDdHH Ga3i8K\"]')\n",
    "for i in rating_tags:\n",
    "    rating=i.text\n",
    "    phone_rating.append(rating)\n",
    "\n",
    "review_tags=driver.find_elements(By.XPATH,'//p[@class=\"z9E0IG\"]')\n",
    "for i in review_tags:\n",
    "    review=i.text\n",
    "    review_summary.append(review)\n",
    "    \n",
    "review_tags=driver.find_elements(By.XPATH,'//div[@class=\"ZmyHeo\"]')\n",
    "for i in review_tags:\n",
    "    review=i.text\n",
    "    full_review.append(review)\n"
   ]
  },
  {
   "cell_type": "code",
   "execution_count": 15,
   "id": "41083801",
   "metadata": {},
   "outputs": [
    {
     "name": "stdout",
     "output_type": "stream",
     "text": [
      "20 20 20\n"
     ]
    }
   ],
   "source": [
    "print(len(phone_rating),len(review_summary),len(full_review))"
   ]
  },
  {
   "cell_type": "code",
   "execution_count": 16,
   "id": "2632539d",
   "metadata": {},
   "outputs": [
    {
     "data": {
      "text/html": [
       "<div>\n",
       "<style scoped>\n",
       "    .dataframe tbody tr th:only-of-type {\n",
       "        vertical-align: middle;\n",
       "    }\n",
       "\n",
       "    .dataframe tbody tr th {\n",
       "        vertical-align: top;\n",
       "    }\n",
       "\n",
       "    .dataframe thead th {\n",
       "        text-align: right;\n",
       "    }\n",
       "</style>\n",
       "<table border=\"1\" class=\"dataframe\">\n",
       "  <thead>\n",
       "    <tr style=\"text-align: right;\">\n",
       "      <th></th>\n",
       "      <th>Phone_rating</th>\n",
       "      <th>Review_summary</th>\n",
       "      <th>Full_review</th>\n",
       "    </tr>\n",
       "  </thead>\n",
       "  <tbody>\n",
       "    <tr>\n",
       "      <th>0</th>\n",
       "      <td>5</td>\n",
       "      <td>Best in the market!</td>\n",
       "      <td>Good Camera</td>\n",
       "    </tr>\n",
       "    <tr>\n",
       "      <th>1</th>\n",
       "      <td>5</td>\n",
       "      <td>Classy product</td>\n",
       "      <td>Camera is awesome\\nBest battery backup\\nA perf...</td>\n",
       "    </tr>\n",
       "    <tr>\n",
       "      <th>2</th>\n",
       "      <td>5</td>\n",
       "      <td>Terrific</td>\n",
       "      <td>Very very good</td>\n",
       "    </tr>\n",
       "    <tr>\n",
       "      <th>3</th>\n",
       "      <td>5</td>\n",
       "      <td>Worth every penny</td>\n",
       "      <td>Feeling awesome after getting the delivery of ...</td>\n",
       "    </tr>\n",
       "    <tr>\n",
       "      <th>4</th>\n",
       "      <td>5</td>\n",
       "      <td>Wonderful</td>\n",
       "      <td>This is amazing at all</td>\n",
       "    </tr>\n",
       "    <tr>\n",
       "      <th>5</th>\n",
       "      <td>5</td>\n",
       "      <td>Perfect product!</td>\n",
       "      <td>Photos super</td>\n",
       "    </tr>\n",
       "    <tr>\n",
       "      <th>6</th>\n",
       "      <td>5</td>\n",
       "      <td>Awesome</td>\n",
       "      <td>iPhone 11 is a good phone. Not a very big diff...</td>\n",
       "    </tr>\n",
       "    <tr>\n",
       "      <th>7</th>\n",
       "      <td>5</td>\n",
       "      <td>Terrific purchase</td>\n",
       "      <td>Value for money 😍</td>\n",
       "    </tr>\n",
       "    <tr>\n",
       "      <th>8</th>\n",
       "      <td>5</td>\n",
       "      <td>Just wow!</td>\n",
       "      <td>Perfect Product!!</td>\n",
       "    </tr>\n",
       "    <tr>\n",
       "      <th>9</th>\n",
       "      <td>5</td>\n",
       "      <td>Must buy!</td>\n",
       "      <td>It’s really awesome</td>\n",
       "    </tr>\n",
       "    <tr>\n",
       "      <th>10</th>\n",
       "      <td>5</td>\n",
       "      <td>Best in the market!</td>\n",
       "      <td>Good Camera</td>\n",
       "    </tr>\n",
       "    <tr>\n",
       "      <th>11</th>\n",
       "      <td>5</td>\n",
       "      <td>Classy product</td>\n",
       "      <td>Camera is awesome\\nBest battery backup\\nA perf...</td>\n",
       "    </tr>\n",
       "    <tr>\n",
       "      <th>12</th>\n",
       "      <td>5</td>\n",
       "      <td>Terrific</td>\n",
       "      <td>Very very good</td>\n",
       "    </tr>\n",
       "    <tr>\n",
       "      <th>13</th>\n",
       "      <td>5</td>\n",
       "      <td>Worth every penny</td>\n",
       "      <td>Feeling awesome after getting the delivery of ...</td>\n",
       "    </tr>\n",
       "    <tr>\n",
       "      <th>14</th>\n",
       "      <td>5</td>\n",
       "      <td>Wonderful</td>\n",
       "      <td>This is amazing at all</td>\n",
       "    </tr>\n",
       "    <tr>\n",
       "      <th>15</th>\n",
       "      <td>5</td>\n",
       "      <td>Perfect product!</td>\n",
       "      <td>Photos super</td>\n",
       "    </tr>\n",
       "    <tr>\n",
       "      <th>16</th>\n",
       "      <td>5</td>\n",
       "      <td>Awesome</td>\n",
       "      <td>iPhone 11 is a good phone. Not a very big diff...</td>\n",
       "    </tr>\n",
       "    <tr>\n",
       "      <th>17</th>\n",
       "      <td>5</td>\n",
       "      <td>Terrific purchase</td>\n",
       "      <td>Value for money 😍</td>\n",
       "    </tr>\n",
       "    <tr>\n",
       "      <th>18</th>\n",
       "      <td>5</td>\n",
       "      <td>Just wow!</td>\n",
       "      <td>Perfect Product!!</td>\n",
       "    </tr>\n",
       "    <tr>\n",
       "      <th>19</th>\n",
       "      <td>5</td>\n",
       "      <td>Must buy!</td>\n",
       "      <td>It’s really awesome</td>\n",
       "    </tr>\n",
       "  </tbody>\n",
       "</table>\n",
       "</div>"
      ],
      "text/plain": [
       "   Phone_rating       Review_summary  \\\n",
       "0             5  Best in the market!   \n",
       "1             5       Classy product   \n",
       "2             5             Terrific   \n",
       "3             5    Worth every penny   \n",
       "4             5            Wonderful   \n",
       "5             5     Perfect product!   \n",
       "6             5              Awesome   \n",
       "7             5    Terrific purchase   \n",
       "8             5            Just wow!   \n",
       "9             5            Must buy!   \n",
       "10            5  Best in the market!   \n",
       "11            5       Classy product   \n",
       "12            5             Terrific   \n",
       "13            5    Worth every penny   \n",
       "14            5            Wonderful   \n",
       "15            5     Perfect product!   \n",
       "16            5              Awesome   \n",
       "17            5    Terrific purchase   \n",
       "18            5            Just wow!   \n",
       "19            5            Must buy!   \n",
       "\n",
       "                                          Full_review  \n",
       "0                                         Good Camera  \n",
       "1   Camera is awesome\\nBest battery backup\\nA perf...  \n",
       "2                                      Very very good  \n",
       "3   Feeling awesome after getting the delivery of ...  \n",
       "4                              This is amazing at all  \n",
       "5                                        Photos super  \n",
       "6   iPhone 11 is a good phone. Not a very big diff...  \n",
       "7                                   Value for money 😍  \n",
       "8                                   Perfect Product!!  \n",
       "9                                 It’s really awesome  \n",
       "10                                        Good Camera  \n",
       "11  Camera is awesome\\nBest battery backup\\nA perf...  \n",
       "12                                     Very very good  \n",
       "13  Feeling awesome after getting the delivery of ...  \n",
       "14                             This is amazing at all  \n",
       "15                                       Photos super  \n",
       "16  iPhone 11 is a good phone. Not a very big diff...  \n",
       "17                                  Value for money 😍  \n",
       "18                                  Perfect Product!!  \n",
       "19                                It’s really awesome  "
      ]
     },
     "execution_count": 16,
     "metadata": {},
     "output_type": "execute_result"
    }
   ],
   "source": [
    "df=pd.DataFrame({\"Phone_rating\":phone_rating,\"Review_summary\":review_summary,\"Full_review\":full_review})\n",
    "df"
   ]
  },
  {
   "cell_type": "markdown",
   "id": "c9971f53",
   "metadata": {},
   "source": [
    "Q4: Scrape data forfirst 100 sneakers you find when you visit flipkart.com and search for “sneakers” in the search\n",
    "field.\n",
    "You have to scrape 3 attributes of each sneaker:\n",
    "1. Brand\n",
    "2. Product Description\n",
    "3. Price\n",
    "As shown in the below image, you have to scrape the above attributes"
   ]
  },
  {
   "cell_type": "markdown",
   "id": "cd151f2a",
   "metadata": {},
   "source": []
  },
  {
   "cell_type": "code",
   "execution_count": 17,
   "id": "9039103d",
   "metadata": {},
   "outputs": [],
   "source": [
    "driver=webdriver.Chrome()"
   ]
  },
  {
   "cell_type": "code",
   "execution_count": 18,
   "id": "437aed29",
   "metadata": {},
   "outputs": [],
   "source": [
    "driver.get('https://www.flipkart.com/')"
   ]
  },
  {
   "cell_type": "code",
   "execution_count": 19,
   "id": "2a6b0b40",
   "metadata": {},
   "outputs": [],
   "source": [
    "product=driver.find_element(By.CLASS_NAME,'Pke_EE')\n",
    "product.send_keys('Sneakers')"
   ]
  },
  {
   "cell_type": "code",
   "execution_count": 20,
   "id": "14474cad",
   "metadata": {},
   "outputs": [],
   "source": [
    "brands = []\n",
    "descriptions = []\n",
    "prices = []"
   ]
  },
  {
   "cell_type": "code",
   "execution_count": null,
   "id": "3004c314",
   "metadata": {},
   "outputs": [],
   "source": []
  },
  {
   "cell_type": "code",
   "execution_count": 21,
   "id": "9d247f1e",
   "metadata": {},
   "outputs": [
    {
     "name": "stdout",
     "output_type": "stream",
     "text": [
      "0 0 0\n"
     ]
    }
   ],
   "source": [
    "print(len(brands),len(descriptions),len(prices))"
   ]
  },
  {
   "cell_type": "code",
   "execution_count": 22,
   "id": "bb2c9568",
   "metadata": {},
   "outputs": [
    {
     "data": {
      "text/html": [
       "<div>\n",
       "<style scoped>\n",
       "    .dataframe tbody tr th:only-of-type {\n",
       "        vertical-align: middle;\n",
       "    }\n",
       "\n",
       "    .dataframe tbody tr th {\n",
       "        vertical-align: top;\n",
       "    }\n",
       "\n",
       "    .dataframe thead th {\n",
       "        text-align: right;\n",
       "    }\n",
       "</style>\n",
       "<table border=\"1\" class=\"dataframe\">\n",
       "  <thead>\n",
       "    <tr style=\"text-align: right;\">\n",
       "      <th></th>\n",
       "      <th>Brands</th>\n",
       "      <th>Descriptions</th>\n",
       "      <th>Prices</th>\n",
       "    </tr>\n",
       "  </thead>\n",
       "  <tbody>\n",
       "  </tbody>\n",
       "</table>\n",
       "</div>"
      ],
      "text/plain": [
       "Empty DataFrame\n",
       "Columns: [Brands, Descriptions, Prices]\n",
       "Index: []"
      ]
     },
     "execution_count": 22,
     "metadata": {},
     "output_type": "execute_result"
    }
   ],
   "source": [
    "import pandas as pd\n",
    "df=pd.DataFrame({\"Brands\":brands,\"Descriptions\":descriptions,\"Prices\":prices})\n",
    "df"
   ]
  },
  {
   "cell_type": "code",
   "execution_count": 23,
   "id": "da52b716",
   "metadata": {},
   "outputs": [
    {
     "name": "stdout",
     "output_type": "stream",
     "text": [
      "Empty DataFrame\n",
      "Columns: [Brands, Descriptions, Prices]\n",
      "Index: []\n"
     ]
    }
   ],
   "source": [
    "print(df)"
   ]
  },
  {
   "cell_type": "code",
   "execution_count": null,
   "id": "1e54adf9",
   "metadata": {},
   "outputs": [],
   "source": []
  },
  {
   "cell_type": "markdown",
   "id": "ec7f0841",
   "metadata": {},
   "source": [
    "Q5: Go to webpage https://www.amazon.in/ Enter “Laptop” in the search field and then click the search icon. Then set CPU Type filter to “Intel Core i7” as shown in the below image:\n",
    "After setting the filters scrape first 10 laptops data. You have to scrape 3 attributes for each laptop:\n",
    "1. Title\n",
    "2. Ratings\n",
    "3. Price"
   ]
  },
  {
   "cell_type": "code",
   "execution_count": null,
   "id": "3e64605e",
   "metadata": {},
   "outputs": [],
   "source": []
  },
  {
   "cell_type": "code",
   "execution_count": 4,
   "id": "4375f863",
   "metadata": {},
   "outputs": [],
   "source": [
    "driver=webdriver.Chrome()"
   ]
  },
  {
   "cell_type": "code",
   "execution_count": 5,
   "id": "ca6661bc",
   "metadata": {},
   "outputs": [],
   "source": [
    "driver.get('https://www.amazon.in/')"
   ]
  },
  {
   "cell_type": "code",
   "execution_count": 6,
   "id": "247b6721",
   "metadata": {},
   "outputs": [],
   "source": [
    "company_title=[]\n",
    "product_ratings=[]\n",
    "product_price=[]"
   ]
  },
  {
   "cell_type": "code",
   "execution_count": 13,
   "id": "06318bd6",
   "metadata": {},
   "outputs": [],
   "source": [
    "company_tags=driver.find_elements(By.XPATH,'//div[@data-cy=\"title-recipe\"]')\n",
    "for i in company_tags:\n",
    "    company=i.text\n",
    "    company_title.append(company)"
   ]
  },
  {
   "cell_type": "code",
   "execution_count": 14,
   "id": "8dd909d0",
   "metadata": {},
   "outputs": [
    {
     "name": "stdout",
     "output_type": "stream",
     "text": [
      "['Acer Aspire Lite 12th Gen Intel Core i7-1255U Premium Metal Laptop (Windows 11 Home/16 GB RAM/512 GB SSD) AL15-52, 39.62cm (15.6\") Full HD Display, Metal Body, Steel Gray, 1.59 Kg', 'Dell Inspiron 7420 2in1 Laptop, Intel Core i7-1255U Processor/16GB/512GB/14.0\" (35.56cm) FHD+ WVA Touch 250 nits, Active Pen/Win 11 + MSO\\'21, 15 Month McAfee/Backlit KB + FPR/Platinum Silver', 'MSI Modern 14, Intel 12th Gen. i7-1255U, 36CM FHD 60Hz Laptop (16GB/512GB NVMe SSD/Windows 11 Home/Intel Iris Xe Graphics/Classic Black/1.4Kg), C12M-459IN', 'Lenovo IdeaPad Slim 3 Intel Core i7 11th Gen 15.6\" (39.62cm) FHD Laptop (16GB/512GB SSD/Win 11/Office 2021/Backlit Keyboard/1 Year ADP Free/Arctic Grey/1.65Kg), 82H803B6IN', 'ASUS [Smartchoice] Vivobook 15, Intel Core i7-12650H 12th Gen, 15.6\" (39.62 cm) FHD, Thin and Light Laptop (16GB/512GB/Win11/Office 2021/Blue/1.7 kg), X1502ZA-EJ741WS(Upto 8000 Bank Discount)', 'Acer Travelmate Business Laptop Intel Core i7-11th Gen (Windows 11 Home/16 GB Ram/1TB SSD/Intel Iris Xe Graphics/14.0 IPS Display/Backlit Keyboard/Fingerprint Sensor) TMP214-53', 'Samsung Galaxy Book3 Core i7 13th Gen 1355U - (16 GB/512 GB SSD/Windows 11 Home) Galaxy Book3 Thin and Light Laptop (15.6 Inch, Graphite, 1.58 Kg, with MS Office)', 'Dell Latitude 7480 14in FHD Laptop PC - Intel Core i7-6600U 2.6GHz 16GB 512GB SSD Windows 10 Professional (Renewed)', 'ASUS TUF Gaming F15, 15.6\"(39.62 cms) FHD 144Hz, Intel Core i7-11800H 11th Gen, 4GB NVIDIA GeForce RTX 3050 Ti, Gaming Laptop (16GB/512GB SSD/Windows 11/90WHrs Battery/Black/2.30 Kg), FX506HE-HN382W', 'HP Pavilion 14 12th Gen Intel Core i7 16GB SDRAM/1TB SSD 14 inch(35.6cm) FHD,IPS,Micro-Edge Display/Intel Iris Xe Graphics/B&O/Win 11/Alexa Built-in/Backlit KB/FPR/MSO 2021/Natural Silver,14-dv2015TU', 'HP Laptop 15s, 12th Gen Intel Core i7-1255U, 15.6-inch (39.6 cm), FHD, 16GB DDR4, 512GB SSD, Intel Iris Xe Graphics, Backlit KB, Thin & Light (Win 11, MSO 2021, Silver, 1.69 kg), fq5190TU', 'HP Victus Gaming Laptop, 12th Gen Intel Core i7-12650H, 4GB RTX 3050 GPU, 15.6-inch (39.6 cm), 75W TGP, FHD, IPS, 144Hz, 16GB DDR4, 512GB SSD, Backlit KB, B&O (MSO, Blue, 2.37 kg), fa0188TX', 'Dell Inspiron 5430 Laptop, 13th Gen Intel Core i7-1360P Processor/16GB/1TB SSD/14.0\" (35.56cm) FHD+ WVA 250 nits/Backlit KB + FPR/Win 11 + MSO\\'21/15 Month McAfee/Platinum Silver/Thin & Light- 1.59kg', 'HP Pavilion 15, 13th Gen Intel Core i7-1360P, 15.6-inch (39.6 cm), FHD, 16GB DDR4, 1TB SSD, Intel Iris Xᵉ Graphics, FPR, Backlit KB, Audio by B&O (Win 11, MSO 2021, Silver, 1.74 kg), eg3036TU', '(Refurbished) Dell Latitude 14 7400 14\" Notebook - Intel Core i7-8665U - 16GB RAM - 512GB SSD', 'Lenovo IdeaPad Slim 5 Intel Core i7 13700H 16\" (40.6cm) 2.5K IPS 350Nits Laptop (16GB/1TB SSD/Win 11/Office 2021/Backlit KB/FHD 1080p +IR Camera/Alexa/3 Month Game Pass/Cloud Grey/1.9Kg), 82XF0078IN', 'HP OMEN Gaming Laptop, Intel Core i7-14700HX (14th Gen), 8GB RTX 4060 GPU(140W), 16.1-inch (40.9 cm) FHD IPS 165Hz 300 nits, 16GB DDR5, 1TB SSD, RGB Backlit KB (Win 11, MSO, Black, 2.32 kg), wf1025TX', 'HP Pavilion x360 2-in-1 Laptop Intel® Core™ i7-1355U / 35.6 cm (14 inch) FHD,multitouch-Enabled, IPS,5 MP Camera,(16GB /512 GB/Intel® Iris® Xᵉ Graphics/Win 11/B&O/Backlit Keyboard/MSO),14-ek1021TU', 'Dell G15 5530 Gaming Laptop, Intel i7-13650HX/16GB/1TB SSD/NVIDIA RTX 3050, 6 GB GDDR6/15.6\" (39.62cm) FHD AG 120Hz 250 nits/Backlit KB RGB/Dark Shadow Grey/Win 11+MSO\\'21/15 Month McAfee/2.65kg', 'ASUS Creator Series Vivobook 14X OLED (2023), Intel Core i7-12650H 12th Gen, 14\" (35.56 cm) 2.8K 90Hz OLED, Creator/Gaming Laptop (16GB/1TB/4GB RTX 2050/Win11/FP/Black/1.4 kg), K3405ZFB-KM751WS', 'ASUS [Smartchoice] ROG Strix G16, 16\"(40.64cm) FHD+ 165Hz, 13th Gen Intel Core i7-13650HX, Gaming Laptop(16GB DDR5/1TB SSD/NVIDIA GeForce RTX 4060 /Win 11/MSO 21/Eclipse Gray/2.50 Kg), G614JV-N3474WS', '(Renewed) (Renewed)HP EliteBook x360 1030 G4 13.3-Inch Touchscreen Laptop with Verizon/AT&T Compatible 4G LTE Wireless Feature (i7-8665U Processor, WiFi+BT5, 512GB SSD, 16GB RAM, HD-IR Camera) Windows 10 Pro', 'Dell Inspiron 3530 Laptop, 13th Generation Intel Core i7-1355U Processor, 16GB, 512GB, 15.6\" (39.62cm) FHD 120Hz Display, Backlit KB, Win 11 + MSO\\'21, 15 Month McAfee, Silver, Thin & Light-1.62kg', 'Acer Predator Helios Neo 16 Gaming Laptop 13th Gen Intel Core i7 Processor (16 GB/1 TB SSD/Windows 11 Home/NVIDIA ® GeForce RTX ¢ 4050) PHN16-71, (16\") WUXGA Display']\n"
     ]
    }
   ],
   "source": [
    "print(company_title)"
   ]
  },
  {
   "cell_type": "code",
   "execution_count": 15,
   "id": "fc841a91",
   "metadata": {},
   "outputs": [
    {
     "name": "stdout",
     "output_type": "stream",
     "text": [
      "24\n"
     ]
    }
   ],
   "source": [
    "print(len(company_title))"
   ]
  },
  {
   "cell_type": "code",
   "execution_count": 16,
   "id": "9b1dc3c7",
   "metadata": {},
   "outputs": [],
   "source": [
    "product_tags=driver.find_elements(By.XPATH,'//span[@class=\"a-size-base s-underline-text\"]')\n",
    "for i in product_tags:\n",
    "    product=i.text\n",
    "    product_ratings.append(product)"
   ]
  },
  {
   "cell_type": "code",
   "execution_count": 20,
   "id": "8d696544",
   "metadata": {},
   "outputs": [
    {
     "name": "stdout",
     "output_type": "stream",
     "text": [
      "['395', '73', '111', '496', '249', '35', '104', '663', '290', '699', '59', '409', '100', '37', '148', '18', '13', '44', '279', '35', '12', '18', '9', '131']\n"
     ]
    }
   ],
   "source": [
    "print(product_ratings)"
   ]
  },
  {
   "cell_type": "code",
   "execution_count": 21,
   "id": "0dab7471",
   "metadata": {},
   "outputs": [
    {
     "name": "stdout",
     "output_type": "stream",
     "text": [
      "24\n"
     ]
    }
   ],
   "source": [
    "print(len(product_ratings))"
   ]
  },
  {
   "cell_type": "code",
   "execution_count": 22,
   "id": "51521a7d",
   "metadata": {},
   "outputs": [],
   "source": [
    "product_tags=driver.find_elements(By.XPATH,'//span[@class=\"a-price\"]')\n",
    "for i in product_tags:\n",
    "    product=i.text\n",
    "    product_price.append(product)"
   ]
  },
  {
   "cell_type": "code",
   "execution_count": 23,
   "id": "2d5f3b93",
   "metadata": {},
   "outputs": [
    {
     "name": "stdout",
     "output_type": "stream",
     "text": [
      "['₹52,990', '₹77,490', '₹49,990', '₹60,190', '₹57,990', '₹47,990', '₹69,890', '₹24,999', '₹72,990', '₹78,990', '₹64,490', '₹79,990', '₹85,019', '₹88,999', '₹30,000', '₹89,190', '₹1,39,990', '₹87,490', '₹98,830', '₹81,990', '₹1,34,990', '₹41,500', '₹69,990', '₹1,17,299']\n"
     ]
    }
   ],
   "source": [
    "print(product_price)"
   ]
  },
  {
   "cell_type": "code",
   "execution_count": 24,
   "id": "8a0941fd",
   "metadata": {},
   "outputs": [
    {
     "name": "stdout",
     "output_type": "stream",
     "text": [
      "24\n"
     ]
    }
   ],
   "source": [
    "print(len(product_price))"
   ]
  },
  {
   "cell_type": "code",
   "execution_count": 26,
   "id": "3e441706",
   "metadata": {},
   "outputs": [
    {
     "name": "stdout",
     "output_type": "stream",
     "text": [
      "24 24 24\n"
     ]
    }
   ],
   "source": [
    "print(len(company_title),len(product_ratings),len(product_price))"
   ]
  },
  {
   "cell_type": "code",
   "execution_count": 29,
   "id": "b2fbd55b",
   "metadata": {},
   "outputs": [
    {
     "data": {
      "text/html": [
       "<div>\n",
       "<style scoped>\n",
       "    .dataframe tbody tr th:only-of-type {\n",
       "        vertical-align: middle;\n",
       "    }\n",
       "\n",
       "    .dataframe tbody tr th {\n",
       "        vertical-align: top;\n",
       "    }\n",
       "\n",
       "    .dataframe thead th {\n",
       "        text-align: right;\n",
       "    }\n",
       "</style>\n",
       "<table border=\"1\" class=\"dataframe\">\n",
       "  <thead>\n",
       "    <tr style=\"text-align: right;\">\n",
       "      <th></th>\n",
       "      <th>Company_title</th>\n",
       "      <th>Product_ratings</th>\n",
       "      <th>Product_price</th>\n",
       "    </tr>\n",
       "  </thead>\n",
       "  <tbody>\n",
       "    <tr>\n",
       "      <th>0</th>\n",
       "      <td>Acer Aspire Lite 12th Gen Intel Core i7-1255U ...</td>\n",
       "      <td>395</td>\n",
       "      <td>₹52,990</td>\n",
       "    </tr>\n",
       "    <tr>\n",
       "      <th>1</th>\n",
       "      <td>Dell Inspiron 7420 2in1 Laptop, Intel Core i7-...</td>\n",
       "      <td>73</td>\n",
       "      <td>₹77,490</td>\n",
       "    </tr>\n",
       "    <tr>\n",
       "      <th>2</th>\n",
       "      <td>MSI Modern 14, Intel 12th Gen. i7-1255U, 36CM ...</td>\n",
       "      <td>111</td>\n",
       "      <td>₹49,990</td>\n",
       "    </tr>\n",
       "    <tr>\n",
       "      <th>3</th>\n",
       "      <td>Lenovo IdeaPad Slim 3 Intel Core i7 11th Gen 1...</td>\n",
       "      <td>496</td>\n",
       "      <td>₹60,190</td>\n",
       "    </tr>\n",
       "    <tr>\n",
       "      <th>4</th>\n",
       "      <td>ASUS [Smartchoice] Vivobook 15, Intel Core i7-...</td>\n",
       "      <td>249</td>\n",
       "      <td>₹57,990</td>\n",
       "    </tr>\n",
       "    <tr>\n",
       "      <th>5</th>\n",
       "      <td>Acer Travelmate Business Laptop Intel Core i7-...</td>\n",
       "      <td>35</td>\n",
       "      <td>₹47,990</td>\n",
       "    </tr>\n",
       "    <tr>\n",
       "      <th>6</th>\n",
       "      <td>Samsung Galaxy Book3 Core i7 13th Gen 1355U - ...</td>\n",
       "      <td>104</td>\n",
       "      <td>₹69,890</td>\n",
       "    </tr>\n",
       "    <tr>\n",
       "      <th>7</th>\n",
       "      <td>Dell Latitude 7480 14in FHD Laptop PC - Intel ...</td>\n",
       "      <td>663</td>\n",
       "      <td>₹24,999</td>\n",
       "    </tr>\n",
       "    <tr>\n",
       "      <th>8</th>\n",
       "      <td>ASUS TUF Gaming F15, 15.6\"(39.62 cms) FHD 144H...</td>\n",
       "      <td>290</td>\n",
       "      <td>₹72,990</td>\n",
       "    </tr>\n",
       "    <tr>\n",
       "      <th>9</th>\n",
       "      <td>HP Pavilion 14 12th Gen Intel Core i7 16GB SDR...</td>\n",
       "      <td>699</td>\n",
       "      <td>₹78,990</td>\n",
       "    </tr>\n",
       "    <tr>\n",
       "      <th>10</th>\n",
       "      <td>HP Laptop 15s, 12th Gen Intel Core i7-1255U, 1...</td>\n",
       "      <td>59</td>\n",
       "      <td>₹64,490</td>\n",
       "    </tr>\n",
       "    <tr>\n",
       "      <th>11</th>\n",
       "      <td>HP Victus Gaming Laptop, 12th Gen Intel Core i...</td>\n",
       "      <td>409</td>\n",
       "      <td>₹79,990</td>\n",
       "    </tr>\n",
       "    <tr>\n",
       "      <th>12</th>\n",
       "      <td>Dell Inspiron 5430 Laptop, 13th Gen Intel Core...</td>\n",
       "      <td>100</td>\n",
       "      <td>₹85,019</td>\n",
       "    </tr>\n",
       "    <tr>\n",
       "      <th>13</th>\n",
       "      <td>HP Pavilion 15, 13th Gen Intel Core i7-1360P, ...</td>\n",
       "      <td>37</td>\n",
       "      <td>₹88,999</td>\n",
       "    </tr>\n",
       "    <tr>\n",
       "      <th>14</th>\n",
       "      <td>(Refurbished) Dell Latitude 14 7400 14\" Notebo...</td>\n",
       "      <td>148</td>\n",
       "      <td>₹30,000</td>\n",
       "    </tr>\n",
       "    <tr>\n",
       "      <th>15</th>\n",
       "      <td>Lenovo IdeaPad Slim 5 Intel Core i7 13700H 16\"...</td>\n",
       "      <td>18</td>\n",
       "      <td>₹89,190</td>\n",
       "    </tr>\n",
       "    <tr>\n",
       "      <th>16</th>\n",
       "      <td>HP OMEN Gaming Laptop, Intel Core i7-14700HX (...</td>\n",
       "      <td>13</td>\n",
       "      <td>₹1,39,990</td>\n",
       "    </tr>\n",
       "    <tr>\n",
       "      <th>17</th>\n",
       "      <td>HP Pavilion x360 2-in-1 Laptop Intel® Core™ i7...</td>\n",
       "      <td>44</td>\n",
       "      <td>₹87,490</td>\n",
       "    </tr>\n",
       "    <tr>\n",
       "      <th>18</th>\n",
       "      <td>Dell G15 5530 Gaming Laptop, Intel i7-13650HX/...</td>\n",
       "      <td>279</td>\n",
       "      <td>₹98,830</td>\n",
       "    </tr>\n",
       "    <tr>\n",
       "      <th>19</th>\n",
       "      <td>ASUS Creator Series Vivobook 14X OLED (2023), ...</td>\n",
       "      <td>35</td>\n",
       "      <td>₹81,990</td>\n",
       "    </tr>\n",
       "    <tr>\n",
       "      <th>20</th>\n",
       "      <td>ASUS [Smartchoice] ROG Strix G16, 16\"(40.64cm)...</td>\n",
       "      <td>12</td>\n",
       "      <td>₹1,34,990</td>\n",
       "    </tr>\n",
       "    <tr>\n",
       "      <th>21</th>\n",
       "      <td>(Renewed) (Renewed)HP EliteBook x360 1030 G4 1...</td>\n",
       "      <td>18</td>\n",
       "      <td>₹41,500</td>\n",
       "    </tr>\n",
       "    <tr>\n",
       "      <th>22</th>\n",
       "      <td>Dell Inspiron 3530 Laptop, 13th Generation Int...</td>\n",
       "      <td>9</td>\n",
       "      <td>₹69,990</td>\n",
       "    </tr>\n",
       "    <tr>\n",
       "      <th>23</th>\n",
       "      <td>Acer Predator Helios Neo 16 Gaming Laptop 13th...</td>\n",
       "      <td>131</td>\n",
       "      <td>₹1,17,299</td>\n",
       "    </tr>\n",
       "  </tbody>\n",
       "</table>\n",
       "</div>"
      ],
      "text/plain": [
       "                                        Company_title Product_ratings  \\\n",
       "0   Acer Aspire Lite 12th Gen Intel Core i7-1255U ...             395   \n",
       "1   Dell Inspiron 7420 2in1 Laptop, Intel Core i7-...              73   \n",
       "2   MSI Modern 14, Intel 12th Gen. i7-1255U, 36CM ...             111   \n",
       "3   Lenovo IdeaPad Slim 3 Intel Core i7 11th Gen 1...             496   \n",
       "4   ASUS [Smartchoice] Vivobook 15, Intel Core i7-...             249   \n",
       "5   Acer Travelmate Business Laptop Intel Core i7-...              35   \n",
       "6   Samsung Galaxy Book3 Core i7 13th Gen 1355U - ...             104   \n",
       "7   Dell Latitude 7480 14in FHD Laptop PC - Intel ...             663   \n",
       "8   ASUS TUF Gaming F15, 15.6\"(39.62 cms) FHD 144H...             290   \n",
       "9   HP Pavilion 14 12th Gen Intel Core i7 16GB SDR...             699   \n",
       "10  HP Laptop 15s, 12th Gen Intel Core i7-1255U, 1...              59   \n",
       "11  HP Victus Gaming Laptop, 12th Gen Intel Core i...             409   \n",
       "12  Dell Inspiron 5430 Laptop, 13th Gen Intel Core...             100   \n",
       "13  HP Pavilion 15, 13th Gen Intel Core i7-1360P, ...              37   \n",
       "14  (Refurbished) Dell Latitude 14 7400 14\" Notebo...             148   \n",
       "15  Lenovo IdeaPad Slim 5 Intel Core i7 13700H 16\"...              18   \n",
       "16  HP OMEN Gaming Laptop, Intel Core i7-14700HX (...              13   \n",
       "17  HP Pavilion x360 2-in-1 Laptop Intel® Core™ i7...              44   \n",
       "18  Dell G15 5530 Gaming Laptop, Intel i7-13650HX/...             279   \n",
       "19  ASUS Creator Series Vivobook 14X OLED (2023), ...              35   \n",
       "20  ASUS [Smartchoice] ROG Strix G16, 16\"(40.64cm)...              12   \n",
       "21  (Renewed) (Renewed)HP EliteBook x360 1030 G4 1...              18   \n",
       "22  Dell Inspiron 3530 Laptop, 13th Generation Int...               9   \n",
       "23  Acer Predator Helios Neo 16 Gaming Laptop 13th...             131   \n",
       "\n",
       "   Product_price  \n",
       "0        ₹52,990  \n",
       "1        ₹77,490  \n",
       "2        ₹49,990  \n",
       "3        ₹60,190  \n",
       "4        ₹57,990  \n",
       "5        ₹47,990  \n",
       "6        ₹69,890  \n",
       "7        ₹24,999  \n",
       "8        ₹72,990  \n",
       "9        ₹78,990  \n",
       "10       ₹64,490  \n",
       "11       ₹79,990  \n",
       "12       ₹85,019  \n",
       "13       ₹88,999  \n",
       "14       ₹30,000  \n",
       "15       ₹89,190  \n",
       "16     ₹1,39,990  \n",
       "17       ₹87,490  \n",
       "18       ₹98,830  \n",
       "19       ₹81,990  \n",
       "20     ₹1,34,990  \n",
       "21       ₹41,500  \n",
       "22       ₹69,990  \n",
       "23     ₹1,17,299  "
      ]
     },
     "execution_count": 29,
     "metadata": {},
     "output_type": "execute_result"
    }
   ],
   "source": [
    "import pandas as pd\n",
    "df=pd.DataFrame({'Company_title':company_title,'Product_ratings':product_ratings,'Product_price':product_price})\n",
    "df"
   ]
  },
  {
   "cell_type": "markdown",
   "id": "3aad08dd",
   "metadata": {},
   "source": [
    "Q6: Write a python program to scrape data for Top 1000 Quotes of All Time.\n",
    "The above task will be done in following steps:\n",
    "1. First get the webpagehttps://www.azquotes.com/\n",
    "2. Click on Top Quote\n",
    "3. Than scrap a) Quote b) Author c) Type Of Quotes"
   ]
  },
  {
   "cell_type": "code",
   "execution_count": 30,
   "id": "0178c04b",
   "metadata": {},
   "outputs": [],
   "source": [
    "driver=webdriver.Chrome()"
   ]
  },
  {
   "cell_type": "code",
   "execution_count": 32,
   "id": "fabf9ec6",
   "metadata": {},
   "outputs": [],
   "source": [
    "driver.get('https://www.azquotes.com/')"
   ]
  },
  {
   "cell_type": "code",
   "execution_count": 40,
   "id": "3be5522c",
   "metadata": {},
   "outputs": [],
   "source": [
    "quote_name=[]\n",
    "author_name=[]\n",
    "quotes_type=[]"
   ]
  },
  {
   "cell_type": "code",
   "execution_count": 49,
   "id": "3edd9063",
   "metadata": {},
   "outputs": [],
   "source": [
    "quote_tags=driver.find_elements(By.XPATH,'//a[@class=\"title\"]')\n",
    "for i in quote_tags:\n",
    "    quote=i.text\n",
    "    quote_name.append(quote)"
   ]
  },
  {
   "cell_type": "code",
   "execution_count": 50,
   "id": "9fcc7c2d",
   "metadata": {},
   "outputs": [
    {
     "name": "stdout",
     "output_type": "stream",
     "text": [
      "100\n"
     ]
    }
   ],
   "source": [
    "print(len(quote_name))"
   ]
  },
  {
   "cell_type": "code",
   "execution_count": 51,
   "id": "18d9d6b3",
   "metadata": {},
   "outputs": [
    {
     "name": "stdout",
     "output_type": "stream",
     "text": [
      "['The essence of strategy is choosing what not to do.', 'One cannot and must not try to erase the past merely because it does not fit the present.', 'Patriotism means to stand by the country. It does not mean to stand by the president.', 'Death is something inevitable. When a man has done what he considers to be his duty to his people and his country, he can rest in peace. I believe I have made that effort and that is, therefore, why I will sleep for the eternity.', 'You have to love a nation that celebrates its independence every July 4, not with a parade of guns, tanks, and soldiers who file by the White House in a show of strength and muscle, but with family picnics where kids throw Frisbees, the potato salad gets iffy, and the flies die from happiness. You may think you have overeaten, but it is patriotism.', 'Be more concerned with your character than your reputation, because your character is what you really are, while your reputation is merely what others think you are.', 'Weak people revenge. Strong people forgive. Intelligent People Ignore.', \"A mind is like a parachute. It doesn't work if it is not open.\", 'Never be afraid to raise your voice for honesty and truth and compassion against injustice and lying and greed. If people all over the world...would do this, it would change the earth.', 'There are three kinds of men. The one that learns by reading. The few who learn by observation. The rest of them have to pee on the electric fence for themselves.', \"A strong nation, like a strong person, can afford to be gentle, firm, thoughtful, and restrained. It can afford to extend a helping hand to others. It's a weak nation, like a weak person, that must behave with bluster and boasting and rashness and other signs of insecurity.\", 'The difference between stupidity and genius is that genius has its limits.', 'We the people are the rightful masters of both Congress and the courts, not to overthrow the Constitution but to overthrow the men who pervert the Constitution.', 'With or without religion, you would have good people doing good things and evil people doing evil things. But for good people to do evil things, that takes religion.', 'Human kindness has never weakened the stamina or softened the fiber of a free people. A nation does not have to be cruel to be tough.', 'A person who never made a mistake never tried anything new.', 'My mission in life is not merely to survive, but to thrive; and to do so with some passion, some compassion, some humor, and some style', 'Life is short, Break the Rules. Forgive quickly, Kiss slowly. Love truly. Laugh uncontrollably And never regret ANYTHING That makes you smile.', 'This country will not be a good place for any of us to live in unless we make it a good place for all of us to live in.', 'In a world filled with hate, we must still dare to hope. In a world filled with anger, we must still dare to comfort. In a world filled with despair, we must still dare to dream. And in a world filled with distrust, we must still dare to believe.', 'Darkness cannot drive out darkness; only light can do that. Hate cannot drive out hate; only love can do that.', 'To be a Christian means to forgive the inexcusable because God has forgiven the inexcusable in you.', 'A man who is good enough to shed his blood for the country is good enough to be given a square deal afterwards.', 'Kindness is the language which the deaf can hear and the blind can see.', 'Most folks are as happy as they make up their minds to be.', 'A happy marriage is the union of two good forgivers.', 'I believe in Christianity as I believe that the sun has risen: not only because I see it, but because by it I see everything else.', 'Politics is the art of looking for trouble, finding it everywhere, diagnosing it incorrectly and applying the wrong remedies.', \"I believe in everything until it's disproved. So I believe in fairies, the myths, dragons. It all exists, even if it's in your mind. Who's to say that dreams and nightmares aren't as real as the here and now?\", 'At the end of your life, you will never regret not having passed one more test, not winning one more verdict or not closing one more deal. You will regret time not spent with a husband, a friend, a child, or a parent.', 'I never think of the future - it comes soon enough.', \"Our greatest fear should not be of failure but of succeeding at things in life that don't really matter.\", 'Failure is simply the opportunity to begin again, this time more intelligently.', 'Music expresses that which cannot be put into words.', 'Good actions are a guard against the blows of adversity.', 'Positive thinking will let you do everything better than negative thinking will.', \"You have enemies? Good. That means you've stood up for something, sometime in your life.\", \"You don't have to be great to start, but you have to start to be great\", 'Let every nation know, whether it wishes us well or ill, that we shall pay any price, bear any burden, meet any hardship, support any friend, oppose any foe to assure the survival and the success of liberty.', \"If you want total security, go to prison. There you're fed, clothed, given medical care and so on. The only thing lacking... is freedom.\", 'Socialism is a philosophy of failure, the creed of ignorance, and the gospel of envy, its inherent virtue is the equal sharing of misery.', 'It is the supreme art of the teacher to awaken joy in creative expression and knowledge.', \"Once you replace negative thoughts with positive ones, you'll start having positive results.\", \"You build on failure. You use it as a stepping stone. Close the door on the past. You don't try to forget the mistakes, but you don't dwell on it. You don't let it have any of your energy, or any of your time, or any of your space.\", 'All my life through, the new sights of Nature made me rejoice like a child.', \"I've learned that people will forget what you said, people will forget what you did, but people will never forget how you made them feel.\", 'Marriage is not a ritual or an end. It is a long, intricate, intimate dance together and nothing matters more than your own sense of balance and your choice of partner.', 'When obstacles arise, you change your direction to reach your goal; you do not change your decision to get there.', 'Time you enjoy wasting, was not wasted.', 'The next time some academics tell you how important diversity is, ask how many Republicans there are in their sociology department.', 'Faith is not the belief that God will do what you want. It is the belief that God will do what is right.', \"If you can't fly then run, if you can't run then walk, if you can't walk then crawl, but whatever you do you have to keep moving forward.\", 'It is hard to imagine a more stupid or more dangerous way of making decisions than by putting those decisions in the hands of people who pay no price for being wrong.', 'I say that the most liberating thing about beauty is realizing that you are the beholder.', 'The ultimate measure of a man is not where he stands in moments of comfort and convenience, but where he stands at times of challenge and controversy.', 'The soldier, above all other people, prays for peace, for he must suffer and bear the deepest wounds and scars of war.', 'A true leader has the confidence to stand alone, the courage to make tough decisions, and the compassion to listen to the needs of others. He does not set out to be a leader, but becomes one by the equality of his actions and the integrity of his intent.', 'I am a Soldier, I fight where I am told, and I win where I fight.', \"Trying to do the Lord's work in your own strength is the most confusing, exhausting, and tedious of all work. But when you are filled with the Holy Spirit, then the ministry of Jesus just flows out of you.\", \"Sports for me is when a guy walks off the court, and you really can't tell whether he won or lost, when he carries himself with pride either way.\", 'Expect the best. Prepare for the worst. Capitalize on what comes.', 'I became insane, with long intervals of horrible sanity.', 'Failure is a detour, not a dead-end street.', 'I am not a product of my circumstances. I am a product of my decisions.', 'You can cut all the flowers but you cannot keep spring from coming.', \"Life doesn't run away from nobody. Life runs at people.\", 'In order to succeed, your desire for success should be greater than your fear of failure.', \"It's difficult to think anything but pleasant thoughts while eating a homegrown tomato.\", 'Too many of us are not living our dreams because we are living our fears.', 'If the only prayer you ever say in your entire life is thank you, it will be enough.', \"It's just a job. Grass grows, birds fly, waves pound the sand. I beat people up.\", 'A man must be big enough to admit his mistakes, smart enough to profit from them, and strong enough to correct them.', 'Our greatest weakness lies in giving up. The most certain way to succeed is always to try just one more time.', \"It has been said, 'time heals all wounds.' I do not agree. The wounds remain. In time, the mind, protecting its sanity, covers them with scar tissue and the pain lessens. But it is never gone.\", 'This is one small step for a man, one giant leap for mankind.', \"I have held many things in my hands, and I have lost them all; but whatever I have placed in God's hands, that I still possess.\", \"Welfare's purpose should be to eliminate, as far as possible, the need for its own existence.\", 'Each time, before you intercede, be quiet first, and worship God in His glory. Think of what He can do, and how He delights to hear the prayers of His redeemed people. Think of your place and privilege in Christ, and expect great things!', \"Failure is not the opposite of success; it's part of success.\", 'No one has ever become poor by giving.', 'It is not my ability, but my response to God’s ability, that counts.', 'No one is born hating another person because of the color of his skin, or his background, or his religion. People must learn to hate, and if they can learn to hate, they can be taught to love, for love comes more naturally to the human heart than its opposite.', 'No matter what people tell you, words and ideas can change the world.', 'A man should never neglect his family for business.', 'Those who dare to fail miserably can achieve greatly.', 'The two most important days in your life are the day you are born and the day you find out why.', 'We must be global Christians with a global vision because our God is a global God.', 'With everything that has happened to you, you can either feel sorry for yourself or treat what has happened as a gift. Everything is either an opportunity to grow or an obstacle to keep you from growing. You get to choose.', 'Don’t let the noise of others’ opinions drown out your own inner voice.', 'History, despite its wrenching pain, cannot be unlived, but if faced with courage, need not be lived again.', \"How old would you be if you didn't know how old you are?\", 'Leadership is a privilege to better the lives of others. It is not an opportunity to satisfy personal greed.', 'If you have good thoughts they will shine out of your face like sunbeams and you will always look lovely.', 'Never cut a tree down in the wintertime. Never make a negative decision in the low time. Never make your most important decisions when you are in your worst moods. Wait. Be patient. The storm will pass. The spring will come.', 'An optimist stays up until midnight to see the new year in. A pessimist stays up to make sure the old year leaves.', 'When the going gets weird, the weird turn pro.', \"When a train goes through a tunnel and it gets dark, you don't throw away the ticket and jump off. You sit still and trust the engineer.\", 'If you think you are too small to make a difference, try sleeping with a mosquito.', \"God doesn't require us to succeed, he only requires that you try.\", 'Change your thoughts and you change your world.']\n"
     ]
    }
   ],
   "source": [
    "print(quote_name)"
   ]
  },
  {
   "cell_type": "code",
   "execution_count": 52,
   "id": "a3db1473",
   "metadata": {},
   "outputs": [],
   "source": [
    "author_tags=driver.find_elements(By.XPATH,'//div[@class=\"author\"] ')\n",
    "for i in author_tags:\n",
    "    author=i.text\n",
    "    author_name.append(author)"
   ]
  },
  {
   "cell_type": "code",
   "execution_count": 53,
   "id": "0df1a0f6",
   "metadata": {},
   "outputs": [
    {
     "name": "stdout",
     "output_type": "stream",
     "text": [
      "100\n"
     ]
    }
   ],
   "source": [
    "print(len(author_name))"
   ]
  },
  {
   "cell_type": "code",
   "execution_count": 54,
   "id": "12989f9e",
   "metadata": {},
   "outputs": [
    {
     "name": "stdout",
     "output_type": "stream",
     "text": [
      "['Michael Porter', 'Golda Meir', 'Theodore Roosevelt', 'Nelson Mandela', 'Erma Bombeck', 'John Wooden', 'Albert Einstein', 'Frank Zappa', 'William Faulkner', 'Will Rogers', 'Jimmy Carter', 'Albert Einstein', 'Abraham Lincoln', 'Steven Weinberg', 'Franklin D. Roosevelt', 'Albert Einstein', 'Maya Angelou', 'Mark Twain', 'Theodore Roosevelt', 'Michael Jackson', 'Martin Luther King, Jr.', 'C. S. Lewis', 'Theodore Roosevelt', 'Mark Twain', 'Abraham Lincoln', 'Ruth Graham', 'C. S. Lewis', 'Groucho Marx', 'John Lennon', 'Barbara Bush', 'Albert Einstein', 'Francis Chan', 'Henry Ford', 'Victor Hugo', 'Abu Bakr', 'Zig Ziglar', 'Winston Churchill', 'Zig Ziglar', 'John F. Kennedy', 'Dwight D. Eisenhower', 'Winston Churchill', 'Albert Einstein', 'Willie Nelson', 'Johnny Cash', 'Marie Curie', 'Maya Angelou', 'Amy Bloom', 'Zig Ziglar', 'John Lennon', 'Thomas Sowell', 'Max Lucado', 'Martin Luther King, Jr.', 'Thomas Sowell', 'Salma Hayek', 'Martin Luther King, Jr.', 'Douglas MacArthur', 'Douglas MacArthur', 'George S. Patton', 'Corrie Ten Boom', 'Jim Courier', 'Zig Ziglar', 'Edgar Allan Poe', 'Zig Ziglar', 'Stephen Covey', 'Pablo Neruda', 'Joe Frazier', 'Bill Cosby', 'Lewis Grizzard', 'Les Brown', 'Meister Eckhart', 'Muhammad Ali', 'John C. Maxwell', 'Thomas A. Edison', 'Rose Kennedy', 'Neil Armstrong', 'Martin Luther', 'Ronald Reagan', 'Andrew Murray', 'Arianna Huffington', 'Anne Frank', 'Corrie Ten Boom', 'Nelson Mandela', 'Robin Williams', 'Walt Disney', 'John F. Kennedy', 'Mark Twain', 'John Stott', 'Wayne Dyer', 'Steve Jobs', 'Maya Angelou', 'Satchel Paige', 'Mwai Kibaki', 'Roald Dahl', 'Robert H. Schuller', 'Bill Vaughan', 'Hunter S. Thompson', 'Corrie Ten Boom', 'Dalai Lama', 'Mother Teresa', 'Norman Vincent Peale']\n"
     ]
    }
   ],
   "source": [
    "print(author_name)"
   ]
  },
  {
   "cell_type": "code",
   "execution_count": 62,
   "id": "c3e1f1a1",
   "metadata": {},
   "outputs": [],
   "source": [
    "quotes_tags=driver.find_elements(By.XPATH,'//div[@class=\"tags\"]')\n",
    "for i in quotes_tags:\n",
    "    quotes=i.text\n",
    "    quotes_type.append(quotes)"
   ]
  },
  {
   "cell_type": "code",
   "execution_count": 63,
   "id": "2820c6e5",
   "metadata": {},
   "outputs": [
    {
     "name": "stdout",
     "output_type": "stream",
     "text": [
      "400\n"
     ]
    }
   ],
   "source": [
    "print(len(quotes_type))"
   ]
  },
  {
   "cell_type": "code",
   "execution_count": 59,
   "id": "ce6c81dd",
   "metadata": {},
   "outputs": [
    {
     "name": "stdout",
     "output_type": "stream",
     "text": [
      "['Essence, Deep Thought, Transcendentalism', 'Inspiration, Past, Trying', 'Country, Peace, War', 'Inspirational, Motivational, Death', '4th Of July, Food, Patriotic', 'Inspirational, Success, Basketball', 'Strong, Revenge, Intelligent', 'Inspirational, Teacher, Religious', 'Truth, Honesty, Lying', 'Funny, Reading, Learning', 'Strong, Thoughtful, Compassion', 'Love, Funny, Life', 'Freedom, Men, Democracies Have', 'God, Religious, Atheist', 'Respect, Kindness, Character', 'Inspirational, Motivational, Change', 'Inspirational, Life, Inspiring', 'Love, Inspirational, Life', 'Inspiring, Country, 4th Of July', 'Inspirational, Dream, Hate', 'Love, Inspirational, Life', 'Forgiveness, God, Christian', 'Country, Men, Squares', 'Inspirational, Relationship, Positive', 'Inspirational, Motivational, Positive', 'Love, Friendship, Relationship', 'Faith, God, Christian', 'Art, Freedom, Political Will', 'Inspirational, Life, Faith', 'Inspirational, Life, Meaningful', 'Happiness, Time, Clever', 'Inspirational, Inspiring, Success', 'Love, Inspirational, Life', 'Music, Sound And Music, Musical Life', 'Adversity, Blow, Action', 'Positive, Thinking Of You, Attitude', 'Inspirational, Funny, Life', 'Inspirational, Life, Motivational', 'Inspirational, Memorial Day, Freedom', 'Freedom, Patriotic, Vaccines', 'Philosophy, Ignorance, Democratic Socialism', 'Inspirational, Dance, Education', 'Life, Change, Positive', 'Life, Bullying, Mistake', 'Life, Nature, Children', 'Inspirational, Life, Motivational', 'Marriage, Love You, Long', 'Inspirational, Motivational, Success', 'Love, Inspirational, Life', 'Diversity, Important, Liberty', 'Inspirational, God, Faith', 'Inspirational, Motivational, Inspiring', 'Business, Stupid, Government', 'Beauty, Love Yourself, Your Beautiful', 'Inspirational, Life, Motivational', 'Peace, Military, War', 'Inspirational, Leadership, Confidence', 'Motivational, Military, War', 'Christian, Jesus, Confusing', 'Inspirational, Success, Sports', 'Inspirational, Motivational, Success', 'Inspirational, Life, Clever', 'Inspirational, Death, Failure', 'Inspirational, Life, Motivational', 'Inspiring, Hope, Spring', 'Motivational, Running, People', 'Inspirational, Motivational, Positive', 'Summer, Food, Garden', 'Inspirational, Life, Motivational', 'Inspirational, Life, Thank You', 'Funny, Sports, Jobs', 'Being Strong, Wisdom, Stay Strong', 'Inspirational, Motivational, Positive', 'Time, Pain, Get Well', 'Motivational, Positive, Moon', 'Life, God, Christian', 'President, Needs, Purpose', 'God, Faith, Christian', 'Women, Failure, Successful', 'Inspirational, Morning, Kindness', 'Hiding Place, Ability, Baby Boom', 'Love, Inspirational, Life', 'Inspirational, Change, Philosophy', 'Inspirational, Family, Inspiring', 'Inspirational, Success, Courage', 'Inspirational, Life, Motivational', 'Christian, Vision, Missionary', 'Inspirational, Positive, Regret', 'Love, Inspirational, Life', 'Inspirational, Life, Encouragement', 'Happy Birthday, Baseball, Fun', 'Leadership, Power, Opportunity', 'Inspirational, Life, Positive', 'Inspirational, Encouraging, Patience', 'New Year, Fun, New Beginnings', 'Music, Sports, Hunting', 'Trust, Encouraging, Uplifting', 'Inspirational, Funny, Change', 'Success, God, Mother', 'Inspirational, Motivational, Change', 'Essence, Deep Thought, Transcendentalism', 'Inspiration, Past, Trying', 'Country, Peace, War', 'Inspirational, Motivational, Death', '4th Of July, Food, Patriotic', 'Inspirational, Success, Basketball', 'Strong, Revenge, Intelligent', 'Inspirational, Teacher, Religious', 'Truth, Honesty, Lying', 'Funny, Reading, Learning', 'Strong, Thoughtful, Compassion', 'Love, Funny, Life', 'Freedom, Men, Democracies Have', 'God, Religious, Atheist', 'Respect, Kindness, Character', 'Inspirational, Motivational, Change', 'Inspirational, Life, Inspiring', 'Love, Inspirational, Life', 'Inspiring, Country, 4th Of July', 'Inspirational, Dream, Hate', 'Love, Inspirational, Life', 'Forgiveness, God, Christian', 'Country, Men, Squares', 'Inspirational, Relationship, Positive', 'Inspirational, Motivational, Positive', 'Love, Friendship, Relationship', 'Faith, God, Christian', 'Art, Freedom, Political Will', 'Inspirational, Life, Faith', 'Inspirational, Life, Meaningful', 'Happiness, Time, Clever', 'Inspirational, Inspiring, Success', 'Love, Inspirational, Life', 'Music, Sound And Music, Musical Life', 'Adversity, Blow, Action', 'Positive, Thinking Of You, Attitude', 'Inspirational, Funny, Life', 'Inspirational, Life, Motivational', 'Inspirational, Memorial Day, Freedom', 'Freedom, Patriotic, Vaccines', 'Philosophy, Ignorance, Democratic Socialism', 'Inspirational, Dance, Education', 'Life, Change, Positive', 'Life, Bullying, Mistake', 'Life, Nature, Children', 'Inspirational, Life, Motivational', 'Marriage, Love You, Long', 'Inspirational, Motivational, Success', 'Love, Inspirational, Life', 'Diversity, Important, Liberty', 'Inspirational, God, Faith', 'Inspirational, Motivational, Inspiring', 'Business, Stupid, Government', 'Beauty, Love Yourself, Your Beautiful', 'Inspirational, Life, Motivational', 'Peace, Military, War', 'Inspirational, Leadership, Confidence', 'Motivational, Military, War', 'Christian, Jesus, Confusing', 'Inspirational, Success, Sports', 'Inspirational, Motivational, Success', 'Inspirational, Life, Clever', 'Inspirational, Death, Failure', 'Inspirational, Life, Motivational', 'Inspiring, Hope, Spring', 'Motivational, Running, People', 'Inspirational, Motivational, Positive', 'Summer, Food, Garden', 'Inspirational, Life, Motivational', 'Inspirational, Life, Thank You', 'Funny, Sports, Jobs', 'Being Strong, Wisdom, Stay Strong', 'Inspirational, Motivational, Positive', 'Time, Pain, Get Well', 'Motivational, Positive, Moon', 'Life, God, Christian', 'President, Needs, Purpose', 'God, Faith, Christian', 'Women, Failure, Successful', 'Inspirational, Morning, Kindness', 'Hiding Place, Ability, Baby Boom', 'Love, Inspirational, Life', 'Inspirational, Change, Philosophy', 'Inspirational, Family, Inspiring', 'Inspirational, Success, Courage', 'Inspirational, Life, Motivational', 'Christian, Vision, Missionary', 'Inspirational, Positive, Regret', 'Love, Inspirational, Life', 'Inspirational, Life, Encouragement', 'Happy Birthday, Baseball, Fun', 'Leadership, Power, Opportunity', 'Inspirational, Life, Positive', 'Inspirational, Encouraging, Patience', 'New Year, Fun, New Beginnings', 'Music, Sports, Hunting', 'Trust, Encouraging, Uplifting', 'Inspirational, Funny, Change', 'Success, God, Mother', 'Inspirational, Motivational, Change', 'Essence, Deep Thought, Transcendentalism', 'Inspiration, Past, Trying', 'Country, Peace, War', 'Inspirational, Motivational, Death', '4th Of July, Food, Patriotic', 'Inspirational, Success, Basketball', 'Strong, Revenge, Intelligent', 'Inspirational, Teacher, Religious', 'Truth, Honesty, Lying', 'Funny, Reading, Learning', 'Strong, Thoughtful, Compassion', 'Love, Funny, Life', 'Freedom, Men, Democracies Have', 'God, Religious, Atheist', 'Respect, Kindness, Character', 'Inspirational, Motivational, Change', 'Inspirational, Life, Inspiring', 'Love, Inspirational, Life', 'Inspiring, Country, 4th Of July', 'Inspirational, Dream, Hate', 'Love, Inspirational, Life', 'Forgiveness, God, Christian', 'Country, Men, Squares', 'Inspirational, Relationship, Positive', 'Inspirational, Motivational, Positive', 'Love, Friendship, Relationship', 'Faith, God, Christian', 'Art, Freedom, Political Will', 'Inspirational, Life, Faith', 'Inspirational, Life, Meaningful', 'Happiness, Time, Clever', 'Inspirational, Inspiring, Success', 'Love, Inspirational, Life', 'Music, Sound And Music, Musical Life', 'Adversity, Blow, Action', 'Positive, Thinking Of You, Attitude', 'Inspirational, Funny, Life', 'Inspirational, Life, Motivational', 'Inspirational, Memorial Day, Freedom', 'Freedom, Patriotic, Vaccines', 'Philosophy, Ignorance, Democratic Socialism', 'Inspirational, Dance, Education', 'Life, Change, Positive', 'Life, Bullying, Mistake', 'Life, Nature, Children', 'Inspirational, Life, Motivational', 'Marriage, Love You, Long', 'Inspirational, Motivational, Success', 'Love, Inspirational, Life', 'Diversity, Important, Liberty', 'Inspirational, God, Faith', 'Inspirational, Motivational, Inspiring', 'Business, Stupid, Government', 'Beauty, Love Yourself, Your Beautiful', 'Inspirational, Life, Motivational', 'Peace, Military, War', 'Inspirational, Leadership, Confidence', 'Motivational, Military, War', 'Christian, Jesus, Confusing', 'Inspirational, Success, Sports', 'Inspirational, Motivational, Success', 'Inspirational, Life, Clever', 'Inspirational, Death, Failure', 'Inspirational, Life, Motivational', 'Inspiring, Hope, Spring', 'Motivational, Running, People', 'Inspirational, Motivational, Positive', 'Summer, Food, Garden', 'Inspirational, Life, Motivational', 'Inspirational, Life, Thank You', 'Funny, Sports, Jobs', 'Being Strong, Wisdom, Stay Strong', 'Inspirational, Motivational, Positive', 'Time, Pain, Get Well', 'Motivational, Positive, Moon', 'Life, God, Christian', 'President, Needs, Purpose', 'God, Faith, Christian', 'Women, Failure, Successful', 'Inspirational, Morning, Kindness', 'Hiding Place, Ability, Baby Boom', 'Love, Inspirational, Life', 'Inspirational, Change, Philosophy', 'Inspirational, Family, Inspiring', 'Inspirational, Success, Courage', 'Inspirational, Life, Motivational', 'Christian, Vision, Missionary', 'Inspirational, Positive, Regret', 'Love, Inspirational, Life', 'Inspirational, Life, Encouragement', 'Happy Birthday, Baseball, Fun', 'Leadership, Power, Opportunity', 'Inspirational, Life, Positive', 'Inspirational, Encouraging, Patience', 'New Year, Fun, New Beginnings', 'Music, Sports, Hunting', 'Trust, Encouraging, Uplifting', 'Inspirational, Funny, Change', 'Success, God, Mother', 'Inspirational, Motivational, Change']\n"
     ]
    }
   ],
   "source": [
    "print(quotes_type)"
   ]
  },
  {
   "cell_type": "code",
   "execution_count": null,
   "id": "e84a3ddf",
   "metadata": {},
   "outputs": [],
   "source": [
    "import pandas as pd\n",
    "df=pd.DataFrame({'Quote_name':quote_name,'Author_name':author_name,'Quotes_type':quotes_type})\n",
    "df"
   ]
  },
  {
   "cell_type": "code",
   "execution_count": null,
   "id": "97a77bc4",
   "metadata": {},
   "outputs": [],
   "source": [
    "quote_name=[]\n",
    "author_name=[]\n",
    "quotes_type=[]"
   ]
  },
  {
   "cell_type": "code",
   "execution_count": null,
   "id": "46698bcb",
   "metadata": {},
   "outputs": [],
   "source": []
  }
 ],
 "metadata": {
  "kernelspec": {
   "display_name": "Python 3 (ipykernel)",
   "language": "python",
   "name": "python3"
  },
  "language_info": {
   "codemirror_mode": {
    "name": "ipython",
    "version": 3
   },
   "file_extension": ".py",
   "mimetype": "text/x-python",
   "name": "python",
   "nbconvert_exporter": "python",
   "pygments_lexer": "ipython3",
   "version": "3.11.5"
  }
 },
 "nbformat": 4,
 "nbformat_minor": 5
}
